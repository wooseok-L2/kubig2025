{
 "cells": [
  {
   "cell_type": "code",
   "execution_count": 2,
   "id": "38c5eba1",
   "metadata": {},
   "outputs": [
    {
     "data": {
      "text/plain": [
       "(3915, 11)"
      ]
     },
     "execution_count": 2,
     "metadata": {},
     "output_type": "execute_result"
    }
   ],
   "source": [
    "import pandas as pd\n",
    "import numpy as np\n",
    "df = pd.read_csv('/home/lws/kulws2025/kubig2025/ornage3/data/healthcare-dataset-3.csv')\n",
    "df.head()\n",
    "df.shape"
   ]
  },
  {
   "cell_type": "code",
   "execution_count": 3,
   "id": "219e837f",
   "metadata": {},
   "outputs": [
    {
     "data": {
      "text/html": [
       "<div>\n",
       "<style scoped>\n",
       "    .dataframe tbody tr th:only-of-type {\n",
       "        vertical-align: middle;\n",
       "    }\n",
       "\n",
       "    .dataframe tbody tr th {\n",
       "        vertical-align: top;\n",
       "    }\n",
       "\n",
       "    .dataframe thead th {\n",
       "        text-align: right;\n",
       "    }\n",
       "</style>\n",
       "<table border=\"1\" class=\"dataframe\">\n",
       "  <thead>\n",
       "    <tr style=\"text-align: right;\">\n",
       "      <th></th>\n",
       "      <th>age</th>\n",
       "      <th>hypertension</th>\n",
       "      <th>heart_disease</th>\n",
       "      <th>avg_glucose_level</th>\n",
       "      <th>bmi</th>\n",
       "      <th>stroke</th>\n",
       "      <th>ever_married_encoded</th>\n",
       "      <th>residence_type_encoded</th>\n",
       "      <th>gender_encoded_0.0</th>\n",
       "      <th>gender_encoded_1.0</th>\n",
       "      <th>gender_encoded_2.0</th>\n",
       "      <th>work_type_encoded_0.0</th>\n",
       "      <th>work_type_encoded_1.0</th>\n",
       "      <th>work_type_encoded_2.0</th>\n",
       "      <th>work_type_encoded_3.0</th>\n",
       "      <th>smoking_status_encoded_0.0</th>\n",
       "      <th>smoking_status_encoded_1.0</th>\n",
       "      <th>smoking_status_encoded_2.0</th>\n",
       "      <th>smoking_status_encoded_3.0</th>\n",
       "    </tr>\n",
       "  </thead>\n",
       "  <tbody>\n",
       "    <tr>\n",
       "      <th>0</th>\n",
       "      <td>67.0</td>\n",
       "      <td>0</td>\n",
       "      <td>1</td>\n",
       "      <td>228.69</td>\n",
       "      <td>36.6</td>\n",
       "      <td>1</td>\n",
       "      <td>1.0</td>\n",
       "      <td>1.0</td>\n",
       "      <td>False</td>\n",
       "      <td>True</td>\n",
       "      <td>False</td>\n",
       "      <td>False</td>\n",
       "      <td>False</td>\n",
       "      <td>True</td>\n",
       "      <td>False</td>\n",
       "      <td>False</td>\n",
       "      <td>True</td>\n",
       "      <td>False</td>\n",
       "      <td>False</td>\n",
       "    </tr>\n",
       "    <tr>\n",
       "      <th>1</th>\n",
       "      <td>80.0</td>\n",
       "      <td>0</td>\n",
       "      <td>1</td>\n",
       "      <td>105.92</td>\n",
       "      <td>32.5</td>\n",
       "      <td>1</td>\n",
       "      <td>1.0</td>\n",
       "      <td>0.0</td>\n",
       "      <td>False</td>\n",
       "      <td>True</td>\n",
       "      <td>False</td>\n",
       "      <td>False</td>\n",
       "      <td>False</td>\n",
       "      <td>True</td>\n",
       "      <td>False</td>\n",
       "      <td>False</td>\n",
       "      <td>False</td>\n",
       "      <td>True</td>\n",
       "      <td>False</td>\n",
       "    </tr>\n",
       "    <tr>\n",
       "      <th>2</th>\n",
       "      <td>49.0</td>\n",
       "      <td>0</td>\n",
       "      <td>0</td>\n",
       "      <td>171.23</td>\n",
       "      <td>34.4</td>\n",
       "      <td>1</td>\n",
       "      <td>1.0</td>\n",
       "      <td>1.0</td>\n",
       "      <td>True</td>\n",
       "      <td>False</td>\n",
       "      <td>False</td>\n",
       "      <td>False</td>\n",
       "      <td>False</td>\n",
       "      <td>True</td>\n",
       "      <td>False</td>\n",
       "      <td>False</td>\n",
       "      <td>False</td>\n",
       "      <td>False</td>\n",
       "      <td>True</td>\n",
       "    </tr>\n",
       "    <tr>\n",
       "      <th>3</th>\n",
       "      <td>79.0</td>\n",
       "      <td>1</td>\n",
       "      <td>0</td>\n",
       "      <td>174.12</td>\n",
       "      <td>24.0</td>\n",
       "      <td>1</td>\n",
       "      <td>1.0</td>\n",
       "      <td>0.0</td>\n",
       "      <td>True</td>\n",
       "      <td>False</td>\n",
       "      <td>False</td>\n",
       "      <td>False</td>\n",
       "      <td>False</td>\n",
       "      <td>False</td>\n",
       "      <td>True</td>\n",
       "      <td>False</td>\n",
       "      <td>False</td>\n",
       "      <td>True</td>\n",
       "      <td>False</td>\n",
       "    </tr>\n",
       "    <tr>\n",
       "      <th>4</th>\n",
       "      <td>81.0</td>\n",
       "      <td>0</td>\n",
       "      <td>0</td>\n",
       "      <td>186.21</td>\n",
       "      <td>29.0</td>\n",
       "      <td>1</td>\n",
       "      <td>1.0</td>\n",
       "      <td>1.0</td>\n",
       "      <td>False</td>\n",
       "      <td>True</td>\n",
       "      <td>False</td>\n",
       "      <td>False</td>\n",
       "      <td>False</td>\n",
       "      <td>True</td>\n",
       "      <td>False</td>\n",
       "      <td>False</td>\n",
       "      <td>True</td>\n",
       "      <td>False</td>\n",
       "      <td>False</td>\n",
       "    </tr>\n",
       "  </tbody>\n",
       "</table>\n",
       "</div>"
      ],
      "text/plain": [
       "    age  hypertension  heart_disease  avg_glucose_level   bmi  stroke  \\\n",
       "0  67.0             0              1             228.69  36.6       1   \n",
       "1  80.0             0              1             105.92  32.5       1   \n",
       "2  49.0             0              0             171.23  34.4       1   \n",
       "3  79.0             1              0             174.12  24.0       1   \n",
       "4  81.0             0              0             186.21  29.0       1   \n",
       "\n",
       "   ever_married_encoded  residence_type_encoded  gender_encoded_0.0  \\\n",
       "0                   1.0                     1.0               False   \n",
       "1                   1.0                     0.0               False   \n",
       "2                   1.0                     1.0                True   \n",
       "3                   1.0                     0.0                True   \n",
       "4                   1.0                     1.0               False   \n",
       "\n",
       "   gender_encoded_1.0  gender_encoded_2.0  work_type_encoded_0.0  \\\n",
       "0                True               False                  False   \n",
       "1                True               False                  False   \n",
       "2               False               False                  False   \n",
       "3               False               False                  False   \n",
       "4                True               False                  False   \n",
       "\n",
       "   work_type_encoded_1.0  work_type_encoded_2.0  work_type_encoded_3.0  \\\n",
       "0                  False                   True                  False   \n",
       "1                  False                   True                  False   \n",
       "2                  False                   True                  False   \n",
       "3                  False                  False                   True   \n",
       "4                  False                   True                  False   \n",
       "\n",
       "   smoking_status_encoded_0.0  smoking_status_encoded_1.0  \\\n",
       "0                       False                        True   \n",
       "1                       False                       False   \n",
       "2                       False                       False   \n",
       "3                       False                       False   \n",
       "4                       False                        True   \n",
       "\n",
       "   smoking_status_encoded_2.0  smoking_status_encoded_3.0  \n",
       "0                       False                       False  \n",
       "1                        True                       False  \n",
       "2                       False                        True  \n",
       "3                        True                       False  \n",
       "4                       False                       False  "
      ]
     },
     "execution_count": 3,
     "metadata": {},
     "output_type": "execute_result"
    }
   ],
   "source": [
    "cols2 = ['gender_encoded','work_type_encoded', 'smoking_status_encoded']\n",
    "df1 = pd.get_dummies(df, columns=cols2)\n",
    "df1.head()"
   ]
  },
  {
   "cell_type": "code",
   "execution_count": 4,
   "id": "90080658",
   "metadata": {},
   "outputs": [
    {
     "data": {
      "text/plain": [
       "(3915, 19)"
      ]
     },
     "execution_count": 4,
     "metadata": {},
     "output_type": "execute_result"
    }
   ],
   "source": [
    "df1.shape"
   ]
  },
  {
   "cell_type": "code",
   "execution_count": 5,
   "id": "3ac23b64",
   "metadata": {},
   "outputs": [
    {
     "data": {
      "text/plain": [
       "['age',\n",
       " 'hypertension',\n",
       " 'heart_disease',\n",
       " 'avg_glucose_level',\n",
       " 'bmi',\n",
       " 'stroke',\n",
       " 'ever_married_encoded',\n",
       " 'residence_type_encoded',\n",
       " 'gender_encoded_0.0',\n",
       " 'gender_encoded_1.0',\n",
       " 'gender_encoded_2.0',\n",
       " 'work_type_encoded_0.0',\n",
       " 'work_type_encoded_1.0',\n",
       " 'work_type_encoded_2.0',\n",
       " 'work_type_encoded_3.0',\n",
       " 'smoking_status_encoded_0.0',\n",
       " 'smoking_status_encoded_1.0',\n",
       " 'smoking_status_encoded_2.0',\n",
       " 'smoking_status_encoded_3.0']"
      ]
     },
     "execution_count": 5,
     "metadata": {},
     "output_type": "execute_result"
    }
   ],
   "source": [
    "list(df1.columns)"
   ]
  },
  {
   "cell_type": "code",
   "execution_count": 6,
   "id": "2c21055c",
   "metadata": {},
   "outputs": [
    {
     "data": {
      "text/plain": [
       "(3915, 16)"
      ]
     },
     "execution_count": 6,
     "metadata": {},
     "output_type": "execute_result"
    }
   ],
   "source": [
    "cols3=['gender_encoded_0.0', 'work_type_encoded_1.0', 'smoking_status_encoded_2.0']\n",
    "df1.drop(cols3, axis=1, inplace=True)\n",
    "df1.shape"
   ]
  },
  {
   "cell_type": "code",
   "execution_count": 7,
   "id": "74e699fc",
   "metadata": {},
   "outputs": [],
   "source": [
    "df1.to_csv('/home/lws/kulws2025/kubig2025/ornage3/data/healthcare-dataset-3.csv', index=False)"
   ]
  },
  {
   "cell_type": "code",
   "execution_count": null,
   "id": "0b6b6297",
   "metadata": {},
   "outputs": [],
   "source": []
  }
 ],
 "metadata": {
  "kernelspec": {
   "display_name": "Python 3",
   "language": "python",
   "name": "python3"
  },
  "language_info": {
   "codemirror_mode": {
    "name": "ipython",
    "version": 3
   },
   "file_extension": ".py",
   "mimetype": "text/x-python",
   "name": "python",
   "nbconvert_exporter": "python",
   "pygments_lexer": "ipython3",
   "version": "3.10.12"
  }
 },
 "nbformat": 4,
 "nbformat_minor": 5
}
