{
 "cells": [
  {
   "cell_type": "code",
   "execution_count": null,
   "id": "6e0438c9",
   "metadata": {},
   "outputs": [],
   "source": [
    "!pip install git+https://github.com/facebookresearch/segment-anything.git"
   ]
  },
  {
   "cell_type": "code",
   "execution_count": null,
   "id": "a6d921f3",
   "metadata": {},
   "outputs": [],
   "source": [
    "!wget -c https://dl.fbaipublicfiles.com/segment_anything/sam_vit_h_4b8939.pth"
   ]
  },
  {
   "cell_type": "code",
   "execution_count": null,
   "id": "3198b521",
   "metadata": {},
   "outputs": [],
   "source": [
    "!wget https://raw.githubusercontent.com/spmallick/learnopencv/refs/heads/master/Segment-Anything-A-Foundation-Model-for-Image-Segmentation/input/image_4.jpg\n",
    "!wget https://raw.githubusercontent.com/spmallick/learnopencv/refs/heads/master/Segment-Anything-A-Foundation-Model-for-Image-Segmentation/input/image_3.jpg\n",
    "     "
   ]
  },
  {
   "cell_type": "code",
   "execution_count": 1,
   "id": "97c08f8d",
   "metadata": {},
   "outputs": [],
   "source": [
    "\n",
    "import cv2\n",
    "import matplotlib.pyplot as plt\n",
    "import numpy as np\n",
    "from segment_anything import SamAutomaticMaskGenerator, sam_model_registry\n",
    "import os"
   ]
  },
  {
   "cell_type": "code",
   "execution_count": 3,
   "id": "00d0ac6d",
   "metadata": {},
   "outputs": [],
   "source": [
    "def show_anns(anns):\n",
    "    if len(anns) == 0:\n",
    "        return\n",
    "    sorted_anns = sorted(anns, key=(lambda x: x[\"area\"]), reverse=True)\n",
    "    ax = plt.gca()\n",
    "    ax.set_autoscale_on(False)\n",
    "    for ann in sorted_anns:\n",
    "        m = ann[\"segmentation\"]\n",
    "        img = np.ones((m.shape[0], m.shape[1], 3))\n",
    "        color_mask = np.random.random((1, 3)).tolist()[0]\n",
    "        for i in range(3):\n",
    "            img[:, :, i] = color_mask[i]\n",
    "        np.dstack((img, m * 0.35))\n",
    "        ax.imshow(np.dstack((img, m * 0.35)))"
   ]
  },
  {
   "cell_type": "code",
   "execution_count": null,
   "id": "408c396b",
   "metadata": {},
   "outputs": [],
   "source": [
    "data_foler = \"/home/lws/kulws2025/kubig2025/opencv/data/\"\n",
    "sam = sam_model_registry[\"vit_h\"](checkpoint=data_foler + \"sam_vit_h_4b8939.pth\")\n",
    "sam.cuda()\n",
    "mask_generator = SamAutomaticMaskGenerator(sam)\n",
    "\n",
    "image_path = \"image_4.jpg\"\n",
    "image_name = image_path.split(os.path.sep)[-1]\n",
    "image = cv2.imread(image_path)\n",
    "image = cv2.cvtColor(image, cv2.COLOR_BGR2RGB)\n",
    "masks = mask_generator.generate(image)\n",
    "plt.figure(figsize=(12, 9))\n",
    "plt.imshow(image)\n",
    "show_anns(masks)\n",
    "plt.axis(\"off\")\n",
    "plt.savefig(os.path.join(\"outputs\", image_name), bbox_inches=\"tight\")"
   ]
  }
 ],
 "metadata": {
  "kernelspec": {
   "display_name": "Python 3",
   "language": "python",
   "name": "python3"
  },
  "language_info": {
   "codemirror_mode": {
    "name": "ipython",
    "version": 3
   },
   "file_extension": ".py",
   "mimetype": "text/x-python",
   "name": "python",
   "nbconvert_exporter": "python",
   "pygments_lexer": "ipython3",
   "version": "3.10.12"
  }
 },
 "nbformat": 4,
 "nbformat_minor": 5
}
