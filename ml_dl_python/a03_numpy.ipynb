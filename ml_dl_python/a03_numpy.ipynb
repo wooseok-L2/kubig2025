{
 "cells": [
  {
   "cell_type": "code",
   "execution_count": 1,
   "id": "dc2f54cd",
   "metadata": {},
   "outputs": [],
   "source": [
    "\n",
    "import numpy as np\n",
    "\n",
    "a1 = np.array([2.0, 3, 4.0], dtype=np.int8)"
   ]
  },
  {
   "cell_type": "code",
   "execution_count": 2,
   "id": "daec10a4",
   "metadata": {},
   "outputs": [
    {
     "name": "stdout",
     "output_type": "stream",
     "text": [
      "int8\n",
      "1\n",
      "(3,)\n",
      "1\n",
      "3\n"
     ]
    }
   ],
   "source": [
    "\n",
    "print(a1.dtype)\n",
    "print(a1.ndim)\n",
    "print(a1.shape)\n",
    "print(a1.itemsize)\n",
    "print(a1.size)"
   ]
  },
  {
   "cell_type": "code",
   "execution_count": 3,
   "id": "527b65c2",
   "metadata": {},
   "outputs": [
    {
     "data": {
      "text/plain": [
       "array([2, 3, 4], dtype=int8)"
      ]
     },
     "execution_count": 3,
     "metadata": {},
     "output_type": "execute_result"
    }
   ],
   "source": [
    "\n",
    "a1"
   ]
  },
  {
   "cell_type": "code",
   "execution_count": 4,
   "id": "fc44dd58",
   "metadata": {},
   "outputs": [],
   "source": [
    "a2 = np.array([[2.0, 3, 4.0], [7, 8, 9], [10, 11, 12]], dtype=np.int8)"
   ]
  },
  {
   "cell_type": "code",
   "execution_count": 5,
   "id": "48c0439d",
   "metadata": {},
   "outputs": [
    {
     "name": "stdout",
     "output_type": "stream",
     "text": [
      "int8\n",
      "2\n",
      "(3, 3)\n",
      "1\n",
      "9\n"
     ]
    }
   ],
   "source": [
    "\n",
    "print(a2.dtype)\n",
    "print(a2.ndim)\n",
    "print(a2.shape)\n",
    "print(a2.itemsize)\n",
    "print(a2.size)"
   ]
  },
  {
   "cell_type": "code",
   "execution_count": 6,
   "id": "f1c8a3b1",
   "metadata": {},
   "outputs": [],
   "source": [
    "\n",
    "a3 = [0 for _ in range(600)]"
   ]
  },
  {
   "cell_type": "code",
   "execution_count": 7,
   "id": "f2f5548c",
   "metadata": {},
   "outputs": [
    {
     "name": "stdout",
     "output_type": "stream",
     "text": [
      "int64\n",
      "4\n",
      "(12, 5, 2, 5)\n",
      "8\n",
      "600\n"
     ]
    }
   ],
   "source": [
    "\n",
    "a3 = np.array(a3, dtype=np.int64)\n",
    "a3 = a3.reshape((12, 5, 2, 5))    # 4th array \n",
    "print(a3.dtype)\n",
    "print(a3.ndim)\n",
    "print(a3.shape)\n",
    "print(a3.itemsize)\n",
    "print(a3.size)"
   ]
  },
  {
   "cell_type": "code",
   "execution_count": 8,
   "id": "fe065b3a",
   "metadata": {},
   "outputs": [
    {
     "name": "stdout",
     "output_type": "stream",
     "text": [
      "[ 0  1  2  3  4  5  6  7  8  9 10 11 12 13 14 15 16 17 18 19 20 21 22 23\n",
      " 24 25 26]\n",
      "[ 1.   1.3  1.6  1.9  2.2  2.5  2.8  3.1  3.4  3.7  4.   4.3  4.6  4.9\n",
      "  5.2  5.5  5.8  6.1  6.4  6.7  7.   7.3  7.6  7.9  8.2  8.5  8.8  9.1\n",
      "  9.4  9.7 10. ]\n",
      "[  1.           4.41176471   7.82352941  11.23529412  14.64705882\n",
      "  18.05882353  21.47058824  24.88235294  28.29411765  31.70588235\n",
      "  35.11764706  38.52941176  41.94117647  45.35294118  48.76470588\n",
      "  52.17647059  55.58823529  59.          62.41176471  65.82352941\n",
      "  69.23529412  72.64705882  76.05882353  79.47058824  82.88235294\n",
      "  86.29411765  89.70588235  93.11764706  96.52941176  99.94117647\n",
      " 103.35294118 106.76470588 110.17647059 113.58823529 117.        ]\n"
     ]
    }
   ],
   "source": [
    "\n",
    "ar1 = np.arange(27)  # [0, 27)\n",
    "print(ar1)\n",
    "ar2 = np.arange(1, 10.0001, 0.3)  # [1, 10)\n",
    "print(ar2)\n",
    "ar3 = np.linspace(1, 117, 35)\n",
    "print(ar3)"
   ]
  },
  {
   "cell_type": "code",
   "execution_count": 11,
   "id": "ba89be4a",
   "metadata": {},
   "outputs": [
    {
     "name": "stdout",
     "output_type": "stream",
     "text": [
      "[[0. 1. 0. 0. 0.]\n",
      " [0. 0. 1. 0. 0.]\n",
      " [0. 0. 0. 1. 0.]\n",
      " [0. 0. 0. 0. 1.]\n",
      " [0. 0. 0. 0. 0.]]\n",
      "[[1. 0. 0. 0. 0.]\n",
      " [0. 1. 0. 0. 0.]\n",
      " [0. 0. 1. 0. 0.]\n",
      " [0. 0. 0. 1. 0.]\n",
      " [0. 0. 0. 0. 1.]]\n",
      "[1. 1. 1. 1.]\n"
     ]
    }
   ],
   "source": [
    "np_list = []\n",
    "# np_list.append(np.zeros((3, 4, 5), dtype = np.int8))\n",
    "# np_list.append(np.full((3, 4, 5), 132, dtype = np.int8))\n",
    "np_list.append(np.eye(5, k = 1))\n",
    "np_list.append(np.eye(5, k = 0))\n",
    "np_list.append(np.diag(np_list[0], k = 1))\n",
    "for npl in np_list:\n",
    "    print(npl)\n"
   ]
  },
  {
   "cell_type": "code",
   "execution_count": 14,
   "id": "d64876d1",
   "metadata": {},
   "outputs": [
    {
     "name": "stdout",
     "output_type": "stream",
     "text": [
      "[[[[17 17 17 17 17]\n",
      "   [17 17 17 17 17]]\n",
      "\n",
      "  [[17 17 17 17 17]\n",
      "   [17 17 17 17 17]]\n",
      "\n",
      "  [[17 17 17 17 17]\n",
      "   [17 17 17 17 17]]\n",
      "\n",
      "  [[17 17 17 17 17]\n",
      "   [17 17 17 17 17]]\n",
      "\n",
      "  [[17 17 17 17 17]\n",
      "   [17 17 17 17 17]]]\n",
      "\n",
      "\n",
      " [[[17 17 17 17 17]\n",
      "   [17 17 17 17 17]]\n",
      "\n",
      "  [[17 17 17 17 17]\n",
      "   [17 17 17 17 17]]\n",
      "\n",
      "  [[17 17 17 17 17]\n",
      "   [17 17 17 17 17]]\n",
      "\n",
      "  [[17 17 17 17 17]\n",
      "   [17 17 17 17 17]]\n",
      "\n",
      "  [[17 17 17 17 17]\n",
      "   [17 17 17 17 17]]]\n",
      "\n",
      "\n",
      " [[[17 17 17 17 17]\n",
      "   [17 17 17 17 17]]\n",
      "\n",
      "  [[17 17 17 17 17]\n",
      "   [17 17 17 17 17]]\n",
      "\n",
      "  [[17 17 17 17 17]\n",
      "   [17 17 17 17 17]]\n",
      "\n",
      "  [[17 17 17 17 17]\n",
      "   [17 17 17 17 17]]\n",
      "\n",
      "  [[17 17 17 17 17]\n",
      "   [17 17 17 17 17]]]\n",
      "\n",
      "\n",
      " [[[17 17 17 17 17]\n",
      "   [17 17 17 17 17]]\n",
      "\n",
      "  [[17 17 17 17 17]\n",
      "   [17 17 17 17 17]]\n",
      "\n",
      "  [[17 17 17 17 17]\n",
      "   [17 17 17 17 17]]\n",
      "\n",
      "  [[17 17 17 17 17]\n",
      "   [17 17 17 17 17]]\n",
      "\n",
      "  [[17 17 17 17 17]\n",
      "   [17 17 17 17 17]]]\n",
      "\n",
      "\n",
      " [[[17 17 17 17 17]\n",
      "   [17 17 17 17 17]]\n",
      "\n",
      "  [[17 17 17 17 17]\n",
      "   [17 17 17 17 17]]\n",
      "\n",
      "  [[17 17 17 17 17]\n",
      "   [17 17 17 17 17]]\n",
      "\n",
      "  [[17 17 17 17 17]\n",
      "   [17 17 17 17 17]]\n",
      "\n",
      "  [[17 17 17 17 17]\n",
      "   [17 17 17 17 17]]]\n",
      "\n",
      "\n",
      " [[[17 17 17 17 17]\n",
      "   [17 17 17 17 17]]\n",
      "\n",
      "  [[17 17 17 17 17]\n",
      "   [17 17 17 17 17]]\n",
      "\n",
      "  [[17 17 17 17 17]\n",
      "   [17 17 17 17 17]]\n",
      "\n",
      "  [[17 17 17 17 17]\n",
      "   [17 17 17 17 17]]\n",
      "\n",
      "  [[17 17 17 17 17]\n",
      "   [17 17 17 17 17]]]\n",
      "\n",
      "\n",
      " [[[17 17 17 17 17]\n",
      "   [17 17 17 17 17]]\n",
      "\n",
      "  [[17 17 17 17 17]\n",
      "   [17 17 17 17 17]]\n",
      "\n",
      "  [[17 17 17 17 17]\n",
      "   [17 17 17 17 17]]\n",
      "\n",
      "  [[17 17 17 17 17]\n",
      "   [17 17 17 17 17]]\n",
      "\n",
      "  [[17 17 17 17 17]\n",
      "   [17 17 17 17 17]]]\n",
      "\n",
      "\n",
      " [[[17 17 17 17 17]\n",
      "   [17 17 17 17 17]]\n",
      "\n",
      "  [[17 17 17 17 17]\n",
      "   [17 17 17 17 17]]\n",
      "\n",
      "  [[17 17 17 17 17]\n",
      "   [17 17 17 17 17]]\n",
      "\n",
      "  [[17 17 17 17 17]\n",
      "   [17 17 17 17 17]]\n",
      "\n",
      "  [[17 17 17 17 17]\n",
      "   [17 17 17 17 17]]]\n",
      "\n",
      "\n",
      " [[[17 17 17 17 17]\n",
      "   [17 17 17 17 17]]\n",
      "\n",
      "  [[17 17 17 17 17]\n",
      "   [17 17 17 17 17]]\n",
      "\n",
      "  [[17 17 17 17 17]\n",
      "   [17 17 17 17 17]]\n",
      "\n",
      "  [[17 17 17 17 17]\n",
      "   [17 17 17 17 17]]\n",
      "\n",
      "  [[17 17 17 17 17]\n",
      "   [17 17 17 17 17]]]\n",
      "\n",
      "\n",
      " [[[17 17 17 17 17]\n",
      "   [17 17 17 17 17]]\n",
      "\n",
      "  [[17 17 17 17 17]\n",
      "   [17 17 17 17 17]]\n",
      "\n",
      "  [[17 17 17 17 17]\n",
      "   [17 17 17 17 17]]\n",
      "\n",
      "  [[17 17 17 17 17]\n",
      "   [17 17 17 17 17]]\n",
      "\n",
      "  [[17 17 17 17 17]\n",
      "   [17 17 17 17 17]]]\n",
      "\n",
      "\n",
      " [[[17 17 17 17 17]\n",
      "   [17 17 17 17 17]]\n",
      "\n",
      "  [[17 17 17 17 17]\n",
      "   [17 17 17 17 17]]\n",
      "\n",
      "  [[17 17 17 17 17]\n",
      "   [17 17 17 17 17]]\n",
      "\n",
      "  [[17 17 17 17 17]\n",
      "   [17 17 17 17 17]]\n",
      "\n",
      "  [[17 17 17 17 17]\n",
      "   [17 17 17 17 17]]]\n",
      "\n",
      "\n",
      " [[[17 17 17 17 17]\n",
      "   [17 17 17 17 17]]\n",
      "\n",
      "  [[17 17 17 17 17]\n",
      "   [17 17 17 17 17]]\n",
      "\n",
      "  [[17 17 17 17 17]\n",
      "   [17 17 17 17 17]]\n",
      "\n",
      "  [[17 17 17 17 17]\n",
      "   [17 17 17 17 17]]\n",
      "\n",
      "  [[17 17 17 17 17]\n",
      "   [17 17 17 17 17]]]]\n"
     ]
    }
   ],
   "source": [
    "b1 = np.ones_like(a3)\n",
    "b2 = np.zeros_like(a3)\n",
    "b3 = np.full_like(a3, 17)\n",
    "\n",
    "print(b3)"
   ]
  },
  {
   "cell_type": "code",
   "execution_count": 21,
   "id": "e3f9eae3",
   "metadata": {},
   "outputs": [
    {
     "name": "stdout",
     "output_type": "stream",
     "text": [
      "[[ 2  3  4]\n",
      " [ 7  8  9]\n",
      " [10 11 12]]\n",
      "[[0 1 2]\n",
      " [3 4 5]\n",
      " [6 7 8]]\n",
      "[[ 2  4  6]\n",
      " [10 12 14]\n",
      " [16 18 20]]\n",
      "[[2 2 2]\n",
      " [4 4 4]\n",
      " [4 4 4]]\n",
      "[[       inf 3.         2.        ]\n",
      " [2.33333333 2.         1.8       ]\n",
      " [1.66666667 1.57142857 1.5       ]]\n",
      "[[False False False]\n",
      " [ True  True  True]\n",
      " [ True  True  True]]\n"
     ]
    },
    {
     "name": "stderr",
     "output_type": "stream",
     "text": [
      "/tmp/ipykernel_137822/3527734661.py:6: RuntimeWarning: divide by zero encountered in divide\n",
      "  c3 = a2 / a3\n"
     ]
    }
   ],
   "source": [
    "print(a2)\n",
    "a3 = np.arange(9).reshape((3, 3))\n",
    "print(a3)\n",
    "c1 = a2 + a3\n",
    "c2 = a2 - a3\n",
    "c3 = a2 / a3\n",
    "print(c1)\n",
    "print(c2)\n",
    "print(c3)\n",
    "\n",
    "# bool operation\n",
    "c4 = (a2-2) > a3\n",
    "print(c4)"
   ]
  },
  {
   "cell_type": "code",
   "execution_count": null,
   "id": "156e0b2a",
   "metadata": {},
   "outputs": [],
   "source": []
  }
 ],
 "metadata": {
  "kernelspec": {
   "display_name": "Python 3",
   "language": "python",
   "name": "python3"
  },
  "language_info": {
   "codemirror_mode": {
    "name": "ipython",
    "version": 3
   },
   "file_extension": ".py",
   "mimetype": "text/x-python",
   "name": "python",
   "nbconvert_exporter": "python",
   "pygments_lexer": "ipython3",
   "version": "3.10.12"
  }
 },
 "nbformat": 4,
 "nbformat_minor": 5
}
