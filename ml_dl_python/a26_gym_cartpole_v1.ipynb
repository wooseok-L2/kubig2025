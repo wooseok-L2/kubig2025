{
  "nbformat": 4,
  "nbformat_minor": 0,
  "metadata": {
    "colab": {
      "provenance": [],
      "gpuType": "T4"
    },
    "kernelspec": {
      "name": "python3",
      "display_name": "Python 3"
    },
    "language_info": {
      "name": "python"
    },
    "accelerator": "GPU"
  },
  "cells": [
    {
      "cell_type": "code",
      "execution_count": 1,
      "metadata": {
        "id": "tFi0Ksqff4FG"
      },
      "outputs": [],
      "source": [
        "import gym\n",
        "import math\n",
        "import random\n",
        "import numpy as np\n",
        "import matplotlib.pyplot as plt\n",
        "from collections import namedtuple\n",
        "from itertools import count\n",
        "from PIL import Image\n",
        "\n",
        "import torch\n",
        "import torch.nn as nn\n",
        "import torch.optim as optim\n",
        "import torch.nn.functional as F\n",
        "import torchvision.transforms as T"
      ]
    },
    {
      "cell_type": "code",
      "source": [
        "env = gym.make('CartPole-v1').unwrapped\n",
        "\n",
        "plt.ion()\n",
        "device = torch.device(\"cuda\" if torch.cuda.is_available() else \"cpu\")\n",
        "print(device)"
      ],
      "metadata": {
        "colab": {
          "base_uri": "https://localhost:8080/"
        },
        "id": "Ok8BzAoOgtem",
        "outputId": "cc9ec75d-88da-474f-8b1d-ee36b26f299e"
      },
      "execution_count": 2,
      "outputs": [
        {
          "output_type": "stream",
          "name": "stdout",
          "text": [
            "cuda\n"
          ]
        },
        {
          "output_type": "stream",
          "name": "stderr",
          "text": [
            "/usr/local/lib/python3.11/dist-packages/gym/core.py:317: DeprecationWarning: \u001b[33mWARN: Initializing wrapper in old step API which returns one bool instead of two. It is recommended to set `new_step_api=True` to use new step API. This will be the default behaviour in future.\u001b[0m\n",
            "  deprecation(\n",
            "/usr/local/lib/python3.11/dist-packages/gym/wrappers/step_api_compatibility.py:39: DeprecationWarning: \u001b[33mWARN: Initializing environment in old step API which returns one bool instead of two. It is recommended to set `new_step_api=True` to use new step API. This will be the default behaviour in future.\u001b[0m\n",
            "  deprecation(\n"
          ]
        }
      ]
    },
    {
      "cell_type": "code",
      "source": [],
      "metadata": {
        "id": "k02hSe2fhB2D"
      },
      "execution_count": 2,
      "outputs": []
    },
    {
      "cell_type": "code",
      "source": [
        "Transition = namedtuple('Transition',\n",
        "                        ('state', 'action', 'next_state', 'reward'))\n",
        "class ReplayMemory(object):\n",
        "    def __init__(self, capacity):\n",
        "        self.capacity = capacity\n",
        "        self.memory = []\n",
        "        self.position = 0\n",
        "    def push(self, *args):\n",
        "      if len(self.memory) < self.capacity:\n",
        "        self.memory.append(None)\n",
        "      self.memory[self.position] = Transition(*args)\n",
        "      self.position = (self.position + 1) % self.capacity\n",
        "    def sample(self, batch_size):\n",
        "      return random.sample(self.memory, batch_size)\n",
        "    def __len__(self):\n",
        "      return len(self.memory)\n",
        ""
      ],
      "metadata": {
        "id": "u0UoOt0fhf21"
      },
      "execution_count": 3,
      "outputs": []
    },
    {
      "cell_type": "code",
      "source": [
        "class DQN(nn.Module):\n",
        "  def __init__(self, h, w, outputs):\n",
        "    super(DQN, self).__init__()\n",
        "    self.conv1 = nn.Conv2d(3, 16, kernel_size=5, stride=2)\n",
        "    self.bn1 = nn.BatchNorm2d(16)\n",
        "    self.conv2 = nn.Conv2d(16, 32, kernel_size=5, stride=2)\n",
        "    self.bn2 = nn.BatchNorm2d(32)\n",
        "    self.conv3 = nn.Conv2d(32, 32, kernel_size=5, stride=2)\n",
        "    self.bn3 = nn.BatchNorm2d(32)\n",
        "\n",
        "    def con2d_size_out(size, kernel_size = 5, stride = 2):\n",
        "      return (size - (kernel_size - 1) - 1) // stride  + 1\n",
        "\n",
        "    convw = con2d_size_out(con2d_size_out(con2d_size_out(w)))\n",
        "    convh = con2d_size_out(con2d_size_out(con2d_size_out(h)))\n",
        "    linear_input_size = convw * convh * 32\n",
        "    self.head = nn.Linear(linear_input_size, outputs)\n",
        "\n",
        "  def forward(self, x):\n",
        "    x = F.relu(self.bn1(self.conv1(x)))\n",
        "    x = F.relu(self.bn2(self.conv2(x)))\n",
        "    x = F.relu(self.bn3(self.conv3(x)))\n",
        "    return self.head(x.view(x.size(0), -1))"
      ],
      "metadata": {
        "id": "T5OleJabi0VL"
      },
      "execution_count": 4,
      "outputs": []
    },
    {
      "cell_type": "code",
      "source": [
        "model = DQN(40, 60, 2).to(device)\n",
        "print(model)"
      ],
      "metadata": {
        "colab": {
          "base_uri": "https://localhost:8080/"
        },
        "id": "zdjo79SumMQL",
        "outputId": "c4a882a1-9c8d-498f-d3ba-3c014e5579c9"
      },
      "execution_count": 5,
      "outputs": [
        {
          "output_type": "stream",
          "name": "stdout",
          "text": [
            "DQN(\n",
            "  (conv1): Conv2d(3, 16, kernel_size=(5, 5), stride=(2, 2))\n",
            "  (bn1): BatchNorm2d(16, eps=1e-05, momentum=0.1, affine=True, track_running_stats=True)\n",
            "  (conv2): Conv2d(16, 32, kernel_size=(5, 5), stride=(2, 2))\n",
            "  (bn2): BatchNorm2d(32, eps=1e-05, momentum=0.1, affine=True, track_running_stats=True)\n",
            "  (conv3): Conv2d(32, 32, kernel_size=(5, 5), stride=(2, 2))\n",
            "  (bn3): BatchNorm2d(32, eps=1e-05, momentum=0.1, affine=True, track_running_stats=True)\n",
            "  (head): Linear(in_features=256, out_features=2, bias=True)\n",
            ")\n"
          ]
        }
      ]
    },
    {
      "cell_type": "code",
      "source": [
        "!pip install pyglet\n",
        "import pyglet\n",
        "\n",
        "resize = T.Compose(\n",
        "    [T.ToPILImage(), T.Resize(40, interpolation=Image.Resampling.BOX), T.ToTensor()]\n",
        ")\n",
        "\n",
        "# get cart location\n",
        "def get_cart_location(screen_width):\n",
        "    world_width = env.x_threshold * 2\n",
        "    scale = screen_width / world_width\n",
        "    return int(env.state[0] * scale + screen_width / 2.0)\n",
        "\n",
        "# get screen image\n",
        "def get_screen():\n",
        "    screen = env.render(mode='rgb_array').transpose((2, 0, 1))\n",
        "    _, screen_height, screen_width = screen.shape\n",
        "    screen = screen[:, int(screen_height * 0.4) : int(screen_height * 0.8)]\n",
        "    view_width = int(screen_width * 0.6)\n",
        "    cart_location = get_cart_location(screen_width)\n",
        "\n",
        "    if cart_location < view_width // 2:\n",
        "        slice_range = slice(view_width)\n",
        "    elif cart_location > (screen_width - view_width // 2):\n",
        "        slice_range = slice(-view_width, None)\n",
        "    else:\n",
        "        slice_range = slice(\n",
        "            cart_location - view_width // 2, cart_location + view_width // 2\n",
        "        )\n",
        "    screen = screen[:, :, slice_range]\n",
        "    screen = np.ascontiguousarray(screen, dtype=np.float32) / 255\n",
        "    screen = torch.from_numpy(screen)\n",
        "    return resize(screen).unsqueeze(0).to(device)\n",
        "\n",
        "env.reset()\n",
        "plt.figure()\n",
        "plt.imshow(get_screen().cpu().squeeze(0).permute(1, 2, 0).numpy(), interpolation=\"none\")\n",
        "plt.title(\"screen\")\n",
        "plt.show()"
      ],
      "metadata": {
        "colab": {
          "base_uri": "https://localhost:8080/",
          "height": 479
        },
        "id": "UI4KsE2Fmo0L",
        "outputId": "1b56913f-0226-49cd-a72b-e8d27c84d2ae"
      },
      "execution_count": 6,
      "outputs": [
        {
          "output_type": "stream",
          "name": "stdout",
          "text": [
            "Collecting pyglet\n",
            "  Downloading pyglet-2.1.6-py3-none-any.whl.metadata (7.7 kB)\n",
            "Downloading pyglet-2.1.6-py3-none-any.whl (983 kB)\n",
            "\u001b[?25l   \u001b[90m━━━━━━━━━━━━━━━━━━━━━━━━━━━━━━━━━━━━━━━━\u001b[0m \u001b[32m0.0/984.0 kB\u001b[0m \u001b[31m?\u001b[0m eta \u001b[36m-:--:--\u001b[0m\r\u001b[2K   \u001b[91m━━━━━━━━━━━━━━━━━\u001b[0m\u001b[91m╸\u001b[0m\u001b[90m━━━━━━━━━━━━━━━━━━━━━━\u001b[0m \u001b[32m440.3/984.0 kB\u001b[0m \u001b[31m13.0 MB/s\u001b[0m eta \u001b[36m0:00:01\u001b[0m\r\u001b[2K   \u001b[90m━━━━━━━━━━━━━━━━━━━━━━━━━━━━━━━━━━━━━━━━\u001b[0m \u001b[32m984.0/984.0 kB\u001b[0m \u001b[31m18.2 MB/s\u001b[0m eta \u001b[36m0:00:00\u001b[0m\n",
            "\u001b[?25hInstalling collected packages: pyglet\n",
            "Successfully installed pyglet-2.1.6\n"
          ]
        },
        {
          "output_type": "stream",
          "name": "stderr",
          "text": [
            "/usr/local/lib/python3.11/dist-packages/gym/core.py:43: DeprecationWarning: \u001b[33mWARN: The argument mode in render method is deprecated; use render_mode during environment initialization instead.\n",
            "See here for more information: https://www.gymlibrary.ml/content/api/\u001b[0m\n",
            "  deprecation(\n"
          ]
        },
        {
          "output_type": "display_data",
          "data": {
            "text/plain": [
              "<Figure size 640x480 with 1 Axes>"
            ],
            "image/png": "[encoded data removed]"
          },
          "metadata": {}
        }
      ]
    },
    {
      "cell_type": "code",
      "source": [
        "# 손실 함수\n",
        "batch_size = 128\n",
        "gamma = 0.999\n",
        "esp_start = 0.9\n",
        "esp_end = 0.05\n",
        "esp_decay = 200\n",
        "target_update = 10\n",
        "memory_size = 100000\n",
        "lr = 1e-4\n",
        "\n",
        "init_screen = get_screen()\n",
        "_, _, screen_height, screen_width = init_screen.shape\n",
        "\n",
        "n_actions = env.action_space.n\n",
        "\n",
        "policy_net = DQN(screen_height, screen_width, n_actions).to(device)\n",
        "target_net = DQN(screen_height, screen_width, n_actions).to(device)\n",
        "target_net.load_state_dict(policy_net.state_dict())\n",
        "target_net.eval()\n",
        "\n",
        "optimizer = optim.RMSprop(policy_net.parameters())\n",
        "memory = ReplayMemory(memory_size)\n",
        "\n",
        "steps_done = 0\n",
        "\n",
        "def select_action(state):\n",
        "  global steps_done\n",
        "  sample = random.random()\n",
        "\n",
        "  esp_threshold = esp_end + (esp_start - esp_end) * math.exp(-1. * steps_done / esp_decay)\n",
        "  steps_done += 1\n",
        "\n",
        "  if sample > esp_threshold:\n",
        "    with torch.no_grad():\n",
        "      return policy_net(state).max(1)[1].view(1,1)\n",
        "  else:\n",
        "    return torch.tensor(\n",
        "        [[random.randrange(n_actions)]], device=device, dtype=torch.long\n",
        "    )\n",
        "\n",
        "episode_durations = []"
      ],
      "metadata": {
        "colab": {
          "base_uri": "https://localhost:8080/"
        },
        "id": "IXgVe6jpqFxS",
        "outputId": "685a09a7-3592-4ad0-98be-4223c941e322"
      },
      "execution_count": 8,
      "outputs": [
        {
          "output_type": "stream",
          "name": "stderr",
          "text": [
            "/usr/local/lib/python3.11/dist-packages/gym/core.py:43: DeprecationWarning: \u001b[33mWARN: The argument mode in render method is deprecated; use render_mode during environment initialization instead.\n",
            "See here for more information: https://www.gymlibrary.ml/content/api/\u001b[0m\n",
            "  deprecation(\n"
          ]
        }
      ]
    },
    {
      "cell_type": "code",
      "source": [
        "def optimize_model():\n",
        "    if len(memory) < batch_size:\n",
        "        return\n",
        "\n",
        "    transitions = memory.sample(batch_size)\n",
        "    batch = Transition(*zip(*transitions))\n",
        "    non_final_mask = torch.tensor(\n",
        "        tuple(map(lambda s: s is not None, batch.next_state)),\n",
        "        device=device,\n",
        "        dtype=torch.bool,\n",
        "    )\n",
        "    non_final_next_states = torch.cat([s for s in batch.next_state if s is not None])\n",
        "\n",
        "    state_batch = torch.cat(batch.state)\n",
        "    action_batch = torch.cat(batch.action)\n",
        "    reward_batch = torch.cat(batch.reward)\n",
        "\n",
        "    state_action_values = policy_net(state_batch).gather(1, action_batch)\n",
        "    next_state_values = torch.zeros(batch_size, device=device)\n",
        "    next_state_values[non_final_mask] = (\n",
        "        target_net(non_final_next_states).max(1)[0].detach()\n",
        "    )\n",
        "    expected_state_action_values = (next_state_values * gamma) + reward_batch\n",
        "\n",
        "    loss = F.smooth_l1_loss(\n",
        "        state_action_values, expected_state_action_values.unsqueeze(1)\n",
        "    )\n",
        "    optimizer.zero_grad()\n",
        "    loss.backward()\n",
        "\n",
        "    for param in policy_net.parameters():\n",
        "        param.grad.data.clamp_(-1, 1)\n",
        "    optimizer.step()"
      ],
      "metadata": {
        "id": "WUGqurPztXsX"
      },
      "execution_count": 9,
      "outputs": []
    },
    {
      "cell_type": "code",
      "source": [
        "from IPython.display import clear_output\n",
        "import imageio\n",
        "from IPython.display import Image\n",
        "import cv2\n",
        "\n",
        "num_episodes = 5000\n",
        "plt.ion()\n",
        "\n",
        "t_li = []\n",
        "\n",
        "for i_episode in range(num_episodes):\n",
        "    env.reset()\n",
        "    last_screen = get_screen()\n",
        "    current_screen = get_screen()\n",
        "    state = current_screen - last_screen\n",
        "    frames= []\n",
        "    for t in count():\n",
        "        action = select_action(state)\n",
        "        _, reward, done, _, _ = env.step(action.item())\n",
        "        reward = torch.tensor([reward], device=device)\n",
        "\n",
        "        last_screen = current_screen\n",
        "        current_screen = get_screen()\n",
        "\n",
        "        if not done:\n",
        "            next_state = current_screen - last_screen\n",
        "        else:\n",
        "            next_state = None\n",
        "\n",
        "        memory.push(state, action, next_state, reward)\n",
        "        state = next_state\n",
        "\n",
        "        optimize_model()\n",
        "        # plt imshow in jupyter notebook update same figure\n",
        "        # plt.imshow(\n",
        "        #     get_screen().cpu().squeeze(0).permute(1, 2, 0).numpy(), interpolation=\"none\"\n",
        "        # )\n",
        "        frame = get_screen().cpu().squeeze(0).permute(1, 2, 0).numpy()\n",
        "        frame = (frame * 255).astype(np.uint8)\n",
        "        frame = cv2.resize(frame, (0, 0), fx=2, fy=2, interpolation=cv2.INTER_NEAREST)\n",
        "        frames.append(frame)\n",
        "        plt.axis(\"off\")\n",
        "\n",
        "        if done:\n",
        "            clear_output(wait=True)\n",
        "            print(\"버틴시간 리스트\", t_li)\n",
        "            print(\"현재 버틴 시간 \", t)\n",
        "            episode_durations.append(t + 1)\n",
        "            t_li.append(t + 1)\n",
        "            imageio.mimsave('cartpole.gif', frames, fps=30)\n",
        "            display(Image(filename=\"cartpole.gif\"))\n",
        "            break\n",
        "\n",
        "    if i_episode % target_update == 0:\n",
        "        target_net.load_state_dict(policy_net.state_dict())\n",
        "\n",
        "    print(\"Complete\")\n",
        "\n",
        "plt.title(\"화면\")\n",
        "env.render()\n",
        "env.close()\n",
        "plt.show()"
      ],
      "metadata": {
        "colab": {
          "base_uri": "https://localhost:8080/",
          "height": 169
        },
        "id": "jXtFTUqEw12G",
        "outputId": "d5a5f97c-83ba-467e-a284-7d0bdfe77234"
      },
      "execution_count": null,
      "outputs": [
        {
          "output_type": "stream",
          "name": "stdout",
          "text": [
            "버틴시간 리스트 [15, 51, 30, 27, 27, 19, 14, 24, 42, 31, 29, 16, 15, 26, 12, 30, 22, 45, 43, 14, 36, 63, 45, 16, 13, 22, 27, 42, 28, 48, 34, 42, 49, 24, 20, 17, 24, 75, 46, 99, 50, 23, 40, 9, 25, 24, 28, 73, 9, 20, 19, 13, 18, 18, 37, 28, 41]\n",
            "현재 버틴 시간  24\n"
          ]
        },
        {
          "output_type": "display_data",
          "data": {
            "image/gif": "[encoded data removed]",
            "text/plain": [
              "<IPython.core.display.Image object>"
            ]
          },
          "metadata": {}
        }
      ]
    },
    {
      "cell_type": "code",
      "source": [],
      "metadata": {
        "id": "D-pvbBAoysbS"
      },
      "execution_count": null,
      "outputs": []
    }
  ]
}