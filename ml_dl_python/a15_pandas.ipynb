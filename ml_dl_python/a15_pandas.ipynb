{
 "cells": [
  {
   "cell_type": "code",
   "execution_count": 1,
   "id": "b94ad554",
   "metadata": {},
   "outputs": [],
   "source": [
    "import numpy as np\n",
    "import pandas as pd"
   ]
  },
  {
   "cell_type": "code",
   "execution_count": 2,
   "id": "0abfff58",
   "metadata": {},
   "outputs": [
    {
     "name": "stdout",
     "output_type": "stream",
     "text": [
      "[100 101 102 103 104]\n",
      "0    100\n",
      "1    101\n",
      "2    102\n",
      "3    103\n",
      "4    104\n",
      "dtype: int64\n",
      "0    100\n",
      "1    101\n",
      "2    102\n",
      "3    103\n",
      "4    104\n",
      "dtype: int32\n",
      "0    부장\n",
      "1    차장\n",
      "2    대리\n",
      "3    사원\n",
      "4    인턴\n",
      "dtype: object\n"
     ]
    }
   ],
   "source": [
    "arr = np.arange(100, 105)\n",
    "print(arr)\n",
    "s1 = pd.Series(arr)\n",
    "s2 = pd.Series(arr, dtype=\"int32\")\n",
    "s3 = pd.Series([\"부장\", \"차장\", \"대리\", \"사원\", \"인턴\"])\n",
    "print(s1, s2, s3, sep=\"\\n\")"
   ]
  },
  {
   "cell_type": "code",
   "execution_count": 3,
   "id": "bbb12e25",
   "metadata": {},
   "outputs": [
    {
     "name": "stdout",
     "output_type": "stream",
     "text": [
      "부장\n",
      "1    101\n",
      "2    102\n",
      "3    103\n",
      "dtype: int32\n",
      "1    차장\n",
      "3    사원\n",
      "dtype: object\n",
      "4    104\n",
      "dtype: int32\n"
     ]
    }
   ],
   "source": [
    "print(s3[0])\n",
    "print(s2[[1, 2, 3]])  # fancy 인덱싱\n",
    "print(s3[np.arange(1, 4, 2)])  # fancy 인덱싱 -> bool 인덱싱\n",
    "print(s2[s2 > 103])"
   ]
  },
  {
   "cell_type": "code",
   "execution_count": 4,
   "id": "cf3025f1",
   "metadata": {},
   "outputs": [
    {
     "name": "stdout",
     "output_type": "stream",
     "text": [
      "a    마케팅\n",
      "b     경영\n",
      "c     개발\n",
      "d     기획\n",
      "e     인사\n",
      "dtype: object\n"
     ]
    }
   ],
   "source": [
    "s = pd.Series(\n",
    "    [\"마케팅\", \"경영\", \"개발\", \"기획\", \"인사\"], index=[\"a\", \"b\", \"c\", \"d\", \"e\"]\n",
    ")\n",
    "print(s)"
   ]
  },
  {
   "cell_type": "code",
   "execution_count": 6,
   "id": "186704f2",
   "metadata": {},
   "outputs": [
    {
     "name": "stdout",
     "output_type": "stream",
     "text": [
      "마케팅\n"
     ]
    }
   ],
   "source": [
    "print(s[\"a\"])"
   ]
  },
  {
   "cell_type": "code",
   "execution_count": 7,
   "id": "928b7662",
   "metadata": {},
   "outputs": [
    {
     "name": "stdout",
     "output_type": "stream",
     "text": [
      "['마케팅' '경영' '개발' '기획' '인사']\n",
      "1\n",
      "(5,)\n"
     ]
    }
   ],
   "source": [
    "print(s.values)\n",
    "print(s.ndim)\n",
    "print(s.shape)"
   ]
  },
  {
   "cell_type": "code",
   "execution_count": 8,
   "id": "50ec4929",
   "metadata": {},
   "outputs": [],
   "source": [
    "s2 = pd.Series([\"선화\", \"강호\", np.nan, \"소정\", \"우영\"])"
   ]
  },
  {
   "cell_type": "code",
   "execution_count": 9,
   "id": "d56402ff",
   "metadata": {},
   "outputs": [
    {
     "name": "stdout",
     "output_type": "stream",
     "text": [
      "0    False\n",
      "1    False\n",
      "2     True\n",
      "3    False\n",
      "4    False\n",
      "dtype: bool\n",
      "0    False\n",
      "1    False\n",
      "2     True\n",
      "3    False\n",
      "4    False\n",
      "dtype: bool\n",
      "0     True\n",
      "1     True\n",
      "2    False\n",
      "3     True\n",
      "4     True\n",
      "dtype: bool\n",
      "0    선화\n",
      "1    강호\n",
      "3    소정\n",
      "4    우영\n",
      "dtype: object\n"
     ]
    }
   ],
   "source": [
    "print(s2.isnull())\n",
    "print(s2.isna())\n",
    "print(s2.notnull())\n",
    "print(s2[s2.notnull()])"
   ]
  },
  {
   "cell_type": "code",
   "execution_count": 10,
   "id": "57ab8d26",
   "metadata": {},
   "outputs": [
    {
     "name": "stdout",
     "output_type": "stream",
     "text": [
      "0     199\n",
      "1     190\n",
      "3     195\n",
      "5     190\n",
      "8     175\n",
      "10    171\n",
      "12    196\n",
      "14    185\n",
      "15    190\n",
      "17    183\n",
      "19    162\n",
      "22    198\n",
      "26    175\n",
      "30    174\n",
      "31    175\n",
      "32    161\n",
      "33    177\n",
      "34    183\n",
      "36    194\n",
      "40    175\n",
      "43    177\n",
      "48    179\n",
      "49    190\n",
      "dtype: int64\n"
     ]
    }
   ],
   "source": [
    "# 50개의 랜덤 (100~200) 생성 후 160 이상만 출력\n",
    "np.random.seed(20)\n",
    "sample = pd.Series(np.random.randint(100, 200, size=(50,)))\n",
    "print(sample[sample > 160])"
   ]
  },
  {
   "cell_type": "code",
   "execution_count": null,
   "id": "c8021d14",
   "metadata": {},
   "outputs": [],
   "source": []
  }
 ],
 "metadata": {
  "kernelspec": {
   "display_name": "Python 3",
   "language": "python",
   "name": "python3"
  },
  "language_info": {
   "codemirror_mode": {
    "name": "ipython",
    "version": 3
   },
   "file_extension": ".py",
   "mimetype": "text/x-python",
   "name": "python",
   "nbconvert_exporter": "python",
   "pygments_lexer": "ipython3",
   "version": "3.10.12"
  }
 },
 "nbformat": 4,
 "nbformat_minor": 5
}
