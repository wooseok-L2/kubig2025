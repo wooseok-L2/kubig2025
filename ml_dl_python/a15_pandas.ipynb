{
 "cells": [
  {
   "cell_type": "code",
   "execution_count": 2,
   "id": "b94ad554",
   "metadata": {},
   "outputs": [],
   "source": [
    "import numpy as np\n",
    "import pandas as pd"
   ]
  },
  {
   "cell_type": "code",
   "execution_count": 3,
   "id": "0abfff58",
   "metadata": {},
   "outputs": [
    {
     "name": "stdout",
     "output_type": "stream",
     "text": [
      "[100 101 102 103 104]\n",
      "0    100\n",
      "1    101\n",
      "2    102\n",
      "3    103\n",
      "4    104\n",
      "dtype: int64\n",
      "0    100\n",
      "1    101\n",
      "2    102\n",
      "3    103\n",
      "4    104\n",
      "dtype: int32\n",
      "0    부장\n",
      "1    차장\n",
      "2    대리\n",
      "3    사원\n",
      "4    인턴\n",
      "dtype: object\n"
     ]
    }
   ],
   "source": [
    "arr = np.arange(100, 105)\n",
    "print(arr)\n",
    "s1 = pd.Series(arr)\n",
    "s2 = pd.Series(arr, dtype=\"int32\")\n",
    "s3 = pd.Series([\"부장\", \"차장\", \"대리\", \"사원\", \"인턴\"])\n",
    "print(s1, s2, s3, sep=\"\\n\")"
   ]
  },
  {
   "cell_type": "code",
   "execution_count": 4,
   "id": "bbb12e25",
   "metadata": {},
   "outputs": [
    {
     "name": "stdout",
     "output_type": "stream",
     "text": [
      "부장\n",
      "1    101\n",
      "2    102\n",
      "3    103\n",
      "dtype: int32\n",
      "1    차장\n",
      "3    사원\n",
      "dtype: object\n",
      "4    104\n",
      "dtype: int32\n"
     ]
    }
   ],
   "source": [
    "print(s3[0])\n",
    "print(s2[[1, 2, 3]])  # fancy 인덱싱\n",
    "print(s3[np.arange(1, 4, 2)])  # fancy 인덱싱 -> bool 인덱싱\n",
    "print(s2[s2 > 103])"
   ]
  },
  {
   "cell_type": "code",
   "execution_count": 5,
   "id": "cf3025f1",
   "metadata": {},
   "outputs": [
    {
     "name": "stdout",
     "output_type": "stream",
     "text": [
      "a    마케팅\n",
      "b     경영\n",
      "c     개발\n",
      "d     기획\n",
      "e     인사\n",
      "dtype: object\n"
     ]
    }
   ],
   "source": [
    "s = pd.Series(\n",
    "    [\"마케팅\", \"경영\", \"개발\", \"기획\", \"인사\"], index=[\"a\", \"b\", \"c\", \"d\", \"e\"]\n",
    ")\n",
    "print(s)"
   ]
  },
  {
   "cell_type": "code",
   "execution_count": 6,
   "id": "186704f2",
   "metadata": {},
   "outputs": [
    {
     "name": "stdout",
     "output_type": "stream",
     "text": [
      "마케팅\n"
     ]
    }
   ],
   "source": [
    "print(s[\"a\"])"
   ]
  },
  {
   "cell_type": "code",
   "execution_count": 7,
   "id": "928b7662",
   "metadata": {},
   "outputs": [
    {
     "name": "stdout",
     "output_type": "stream",
     "text": [
      "['마케팅' '경영' '개발' '기획' '인사']\n",
      "1\n",
      "(5,)\n"
     ]
    }
   ],
   "source": [
    "print(s.values)\n",
    "print(s.ndim)\n",
    "print(s.shape)"
   ]
  },
  {
   "cell_type": "code",
   "execution_count": 8,
   "id": "50ec4929",
   "metadata": {},
   "outputs": [],
   "source": [
    "s2 = pd.Series([\"선화\", \"강호\", np.nan, \"소정\", \"우영\"])"
   ]
  },
  {
   "cell_type": "code",
   "execution_count": 9,
   "id": "d56402ff",
   "metadata": {},
   "outputs": [
    {
     "name": "stdout",
     "output_type": "stream",
     "text": [
      "0    False\n",
      "1    False\n",
      "2     True\n",
      "3    False\n",
      "4    False\n",
      "dtype: bool\n",
      "0    False\n",
      "1    False\n",
      "2     True\n",
      "3    False\n",
      "4    False\n",
      "dtype: bool\n",
      "0     True\n",
      "1     True\n",
      "2    False\n",
      "3     True\n",
      "4     True\n",
      "dtype: bool\n",
      "0    선화\n",
      "1    강호\n",
      "3    소정\n",
      "4    우영\n",
      "dtype: object\n"
     ]
    }
   ],
   "source": [
    "print(s2.isnull())\n",
    "print(s2.isna())\n",
    "print(s2.notnull())\n",
    "print(s2[s2.notnull()])"
   ]
  },
  {
   "cell_type": "code",
   "execution_count": 10,
   "id": "57ab8d26",
   "metadata": {},
   "outputs": [
    {
     "name": "stdout",
     "output_type": "stream",
     "text": [
      "0     199\n",
      "1     190\n",
      "3     195\n",
      "5     190\n",
      "8     175\n",
      "10    171\n",
      "12    196\n",
      "14    185\n",
      "15    190\n",
      "17    183\n",
      "19    162\n",
      "22    198\n",
      "26    175\n",
      "30    174\n",
      "31    175\n",
      "32    161\n",
      "33    177\n",
      "34    183\n",
      "36    194\n",
      "40    175\n",
      "43    177\n",
      "48    179\n",
      "49    190\n",
      "dtype: int64\n"
     ]
    }
   ],
   "source": [
    "# 50개의 랜덤 (100~200) 생성 후 160 이상만 출력\n",
    "np.random.seed(20)\n",
    "sample = pd.Series(np.random.randint(100, 200, size=(50,)))\n",
    "print(sample[sample > 160])"
   ]
  },
  {
   "cell_type": "code",
   "execution_count": 11,
   "id": "c8021d14",
   "metadata": {},
   "outputs": [
    {
     "name": "stdout",
     "output_type": "stream",
     "text": [
      "   가  나  다\n",
      "a  1  2  3\n",
      "b  4  5  6\n",
      "c  7  8  9\n"
     ]
    }
   ],
   "source": [
    "df = pd.DataFrame(\n",
    "    [[1, 2, 3], [4, 5, 6], [7, 8, 9]], columns=[\"가\", \"나\", \"다\"], index=[\"a\", \"b\", \"c\"]\n",
    ")\n",
    "print(df)"
   ]
  },
  {
   "cell_type": "code",
   "execution_count": 12,
   "id": "09f59aa4",
   "metadata": {},
   "outputs": [
    {
     "name": "stdout",
     "output_type": "stream",
     "text": [
      "<class 'pandas.core.frame.DataFrame'>\n",
      "RangeIndex: 6 entries, 0 to 5\n",
      "Data columns (total 10 columns):\n",
      " #   Column  Non-Null Count  Dtype\n",
      "---  ------  --------------  -----\n",
      " 0   0       6 non-null      int64\n",
      " 1   1       6 non-null      int64\n",
      " 2   2       6 non-null      int64\n",
      " 3   3       6 non-null      int64\n",
      " 4   4       6 non-null      int64\n",
      " 5   5       6 non-null      int64\n",
      " 6   6       6 non-null      int64\n",
      " 7   7       6 non-null      int64\n",
      " 8   8       6 non-null      int64\n",
      " 9   9       6 non-null      int64\n",
      "dtypes: int64(10)\n",
      "memory usage: 608.0 bytes\n",
      "None\n"
     ]
    }
   ],
   "source": [
    "df = pd.DataFrame(np.arange(60).reshape(6, 10))\n",
    "print(df.info())"
   ]
  },
  {
   "cell_type": "code",
   "execution_count": 13,
   "id": "a2bf48d2",
   "metadata": {},
   "outputs": [
    {
     "name": "stdout",
     "output_type": "stream",
     "text": [
      "   name  age  childrun\n",
      "0   kim   24         2\n",
      "1   lee   26         1\n",
      "2  park   30         3\n"
     ]
    }
   ],
   "source": [
    "df = pd.DataFrame(\n",
    "    {\"name\": [\"kim\", \"lee\", \"park\"], \"age\": [24, 26, 30], \"childrun\": [2, 1, 3]}\n",
    ")\n",
    "print(df)"
   ]
  },
  {
   "cell_type": "code",
   "execution_count": 15,
   "id": "91c2ba05",
   "metadata": {},
   "outputs": [
    {
     "name": "stdout",
     "output_type": "stream",
     "text": [
      "    Species  Weight  Length  Diagonal   Height   Width\n",
      "0     Bream   242.0    25.4      30.0  11.5200  4.0200\n",
      "1     Bream   290.0    26.3      31.2  12.4800  4.3056\n",
      "2     Bream   340.0    26.5      31.1  12.3778  4.6961\n",
      "3     Bream   363.0    29.0      33.5  12.7300  4.4555\n",
      "4     Bream   430.0    29.0      34.0  12.4440  5.1340\n",
      "..      ...     ...     ...       ...      ...     ...\n",
      "154   Smelt    12.2    12.2      13.4   2.0904  1.3936\n",
      "155   Smelt    13.4    12.4      13.5   2.4300  1.2690\n",
      "156   Smelt    12.2    13.0      13.8   2.2770  1.2558\n",
      "157   Smelt    19.7    14.3      15.2   2.8728  2.0672\n",
      "158   Smelt    19.9    15.0      16.2   2.9322  1.8792\n",
      "\n",
      "[159 rows x 6 columns]\n"
     ]
    }
   ],
   "source": [
    "df = pd.read_csv(\"/home/lws/kulws2025/kubig2025/ml_dl_python/data/fish.csv\")\n",
    "print(df)"
   ]
  },
  {
   "cell_type": "code",
   "execution_count": 20,
   "id": "6ed65c85",
   "metadata": {},
   "outputs": [
    {
     "name": "stdout",
     "output_type": "stream",
     "text": [
      "<class 'pandas.core.frame.DataFrame'>\n",
      "RangeIndex: 13 entries, 0 to 12\n",
      "Data columns (total 19 columns):\n",
      " #   Column                                                                                                                                                                                                                                                                                                                                                                                  Non-Null Count  Dtype         \n",
      "---  ------                                                                                                                                                                                                                                                                                                                                                                                  --------------  -----         \n",
      " 0   타임스탬프                                                                                                                                                                                                                                                                                                                                                                                   13 non-null     datetime64[ns]\n",
      " 1   이메일 주소                                                                                                                                                                                                                                                                                                                                                                                  13 non-null     object        \n",
      " 2   Unnamed: 2                                                                                                                                                                                                                                                                                                                                                                              0 non-null      float64       \n",
      " 3   이름                                                                                                                                                                                                                                                                                                                                                                                      13 non-null     object        \n",
      " 4   1.파이썬이 인터프리터 언어로서 가지는 주요 특징은 무엇인가요?                                                                                                                                                                                                                                                                                                                                                     13 non-null     object        \n",
      " 5   2.파이썬의 동적 타이핑의 특징은 무엇인가요?                                                                                                                                                                                                                                                                                                                                                               13 non-null     object        \n",
      " 6   3. 다음 중 파이썬의 기본 데이터 타입이 아닌 것은 무엇인가요?                                                                                                                                                                                                                                                                                                                                                    13 non-null     object        \n",
      " 7   4. input() 함수의 반환값은 무엇인가요?                                                                                                                                                                                                                                                                                                                                                              13 non-null     object        \n",
      " 8   5. import 문의 주요 역할은 무엇인가요?                                                                                                                                                                                                                                                                                                                                                              13 non-null     object        \n",
      " 9   6. 다음 중 딕셔너리 메소드 items()의 역할은 무엇인가요?                                                                                                                                                                                                                                                                                                                                                    13 non-null     object        \n",
      " 10  7. list comprehension의 특징은 무엇인가요?                                                                                                                                                                                                                                                                                                                                                       13 non-null     object        \n",
      " 11  8.함수의 가변 길이 인자 *args의 역할은 무엇인가요?                                                                                                                                                                                                                                                                                                                                                        13 non-null     object        \n",
      " 12  9. 가상 환경(venv)의 주요 목적은 무엇인가요?                                                                                                                                                                                                                                                                                                                                                           13 non-null     object        \n",
      " 13  10. 데코레이터의 주요 역할은 무엇인가요?                                                                                                                                                                                                                                                                                                                                                                13 non-null     object        \n",
      " 14  11. 파이썬이 mymodule.c로 생성된 .so 파일을 동적 로딩할 때 사용하는 주요 내부 메커니즘은 무엇인가요?                                                                                                                                                                                                                                                                                                                       13 non-null     object        \n",
      " 15  12. 파이썬에서 모든 클래스는 기본적으로 object 클래스를 상속받습니다. object 클래스의 주요 역할은 무엇인가요?                                                                                                                                                                                                                                                                                                                   13 non-null     object        \n",
      " 16  13. Docker 컨테이너에서 docker run 명령의 역할은 무엇인가요?                                                                                                                                                                                                                                                                                                                                             13 non-null     object        \n",
      " 17  14. Docker, Poetry, venv를 사용할 때의 공통 목표는 무엇인가요?                                                                                                                                                                                                                                                                                                                                          13 non-null     object        \n",
      " 18  15. 다음 코드에서 @property와 @age.setter를 사용한 age 속성의 동작을 해석하세요.\n",
      "\n",
      "class Student:\n",
      "    def __init__(self, age):\n",
      "        self._age = age\n",
      "\n",
      "    @property\n",
      "    def age(self):\n",
      "        return self._age\n",
      "\n",
      "    @age.setter\n",
      "    def age(self, value):\n",
      "        if not isinstance(value, int) or value < 0:\n",
      "            raise ValueError(\"Age must be a non-negative integer\")\n",
      "        self._age = value  13 non-null     object        \n",
      "dtypes: datetime64[ns](1), float64(1), object(17)\n",
      "memory usage: 2.1+ KB\n",
      "None\n",
      "                    타임스탬프                    이메일 주소  Unnamed: 2   이름  \\\n",
      "0 2025-05-15 17:10:02.146       egwag1627@gmail.com         NaN  곽은규   \n",
      "1 2025-05-15 17:10:51.556      bubblerion@gmail.com         NaN  박재형   \n",
      "2 2025-05-15 17:11:31.815      qkrgkdbf10@gmail.com         NaN  박어진   \n",
      "3 2025-05-15 17:11:32.138       hjp990730@gmail.com         NaN  박해준   \n",
      "4 2025-05-15 17:11:34.551  yeongjae.jeong@gmail.com         NaN  정영재   \n",
      "\n",
      "  1.파이썬이 인터프리터 언어로서 가지는 주요 특징은 무엇인가요? 2.파이썬의 동적 타이핑의 특징은 무엇인가요?  \\\n",
      "0              코드는 컴파일 없이 한 줄씩 실행됩니다.   변수의 데이터 타입은 런타임에 결정됩니다.   \n",
      "1              코드는 컴파일 없이 한 줄씩 실행됩니다.   변수의 데이터 타입은 런타임에 결정됩니다.   \n",
      "2              코드는 컴파일 없이 한 줄씩 실행됩니다.   변수의 데이터 타입은 런타임에 결정됩니다.   \n",
      "3              코드는 컴파일 없이 한 줄씩 실행됩니다.   변수의 데이터 타입은 런타임에 결정됩니다.   \n",
      "4             코드는 실행 전에 어셈블리어로 변환됩니다.     변수는 정적 메모리 할당을 사용합니다.   \n",
      "\n",
      "  3. 다음 중 파이썬의 기본 데이터 타입이 아닌 것은 무엇인가요? 4. input() 함수의 반환값은 무엇인가요?  \\\n",
      "0                                array                        str   \n",
      "1                                float                      tuple   \n",
      "2                                array                        int   \n",
      "3                                array                        str   \n",
      "4                                array                      tuple   \n",
      "\n",
      "  5. import 문의 주요 역할은 무엇인가요? 6. 다음 중 딕셔너리 메소드 items()의 역할은 무엇인가요?  \\\n",
      "0     모듈, 패키지, 라이브러리를 가져옵니다.                       키와 값 쌍을 반환합니다.   \n",
      "1     모듈, 패키지, 라이브러리를 가져옵니다.                       키와 값 쌍을 반환합니다.   \n",
      "2     모듈, 패키지, 라이브러리를 가져옵니다.                       키와 값 쌍을 반환합니다.   \n",
      "3     모듈, 패키지, 라이브러리를 가져옵니다.                       키와 값 쌍을 반환합니다.   \n",
      "4     모듈, 패키지, 라이브러리를 가져옵니다.                         딕셔너리를 정렬합니다.   \n",
      "\n",
      "  7. list comprehension의 특징은 무엇인가요? 8.함수의 가변 길이 인자 *args의 역할은 무엇인가요?  \\\n",
      "0             간결하게 리스트를 생성하는 구문입니다.                   키워드 인자를 처리합니다.   \n",
      "1             간결하게 리스트를 생성하는 구문입니다.              여러 위치 인자를 튜플로 받습니다.   \n",
      "2             간결하게 리스트를 생성하는 구문입니다.                   키워드 인자를 처리합니다.   \n",
      "3             간결하게 리스트를 생성하는 구문입니다.                  함수의 반환값을 정의합니다.   \n",
      "4             간결하게 리스트를 생성하는 구문입니다.              여러 위치 인자를 튜플로 받습니다.   \n",
      "\n",
      "  9. 가상 환경(venv)의 주요 목적은 무엇인가요?   10. 데코레이터의 주요 역할은 무엇인가요?  \\\n",
      "0     프로젝트별로 독립된 파이썬 환경을 제공합니다.                   파일을 엽니다.   \n",
      "1     프로젝트별로 독립된 파이썬 환경을 제공합니다.  함수나 메소드의 동작을 수정하거나 확장합니다.   \n",
      "2     프로젝트별로 독립된 파이썬 환경을 제공합니다.  함수나 메소드의 동작을 수정하거나 확장합니다.   \n",
      "3     프로젝트별로 독립된 파이썬 환경을 제공합니다.  함수나 메소드의 동작을 수정하거나 확장합니다.   \n",
      "4     프로젝트별로 독립된 파이썬 환경을 제공합니다.  함수나 메소드의 동작을 수정하거나 확장합니다.   \n",
      "\n",
      "  11. 파이썬이 mymodule.c로 생성된 .so 파일을 동적 로딩할 때 사용하는 주요 내부 메커니즘은 무엇인가요?  \\\n",
      "0                                             dlopen                  \n",
      "1                                      PyFrameObject                  \n",
      "2                                             dlopen                  \n",
      "3                                      PyFrameObject                  \n",
      "4                                      PyFrameObject                  \n",
      "\n",
      "  12. 파이썬에서 모든 클래스는 기본적으로 object 클래스를 상속받습니다. object 클래스의 주요 역할은 무엇인가요?  \\\n",
      "0                                      클래스 상속을 제한한다.                      \n",
      "1                              모든 클래스의 메모리 할당을 관리한다.                      \n",
      "2                           모든 객체에 공통적인 기본 동작을 제공한다.                      \n",
      "3                           모든 객체에 공통적인 기본 동작을 제공한다.                      \n",
      "4                           모든 객체에 공통적인 기본 동작을 제공한다.                      \n",
      "\n",
      "  13. Docker 컨테이너에서 docker run 명령의 역할은 무엇인가요?  \\\n",
      "0                          컨테이너의 네트워크를 재설정한다.   \n",
      "1                            컨테이너를 시작하고 실행한다.   \n",
      "2                            컨테이너를 시작하고 실행한다.   \n",
      "3                           Docker 이미지를 빌드한다.   \n",
      "4                            컨테이너를 시작하고 실행한다.   \n",
      "\n",
      "  14. Docker, Poetry, venv를 사용할 때의 공통 목표는 무엇인가요?  \\\n",
      "0                             데이터베이스 스키마를 초기화한다.   \n",
      "1                      애플리케이션의 실행 환경을 일관되게 유지한다.   \n",
      "2                                 파이썬 코드를 컴파일한다.   \n",
      "3                      애플리케이션의 실행 환경을 일관되게 유지한다.   \n",
      "4                      애플리케이션의 실행 환경을 일관되게 유지한다.   \n",
      "\n",
      "  15. 다음 코드에서 @property와 @age.setter를 사용한 age 속성의 동작을 해석하세요.\\n\\nclass Student:\\n    def __init__(self, age):\\n        self._age = age\\n\\n    @property\\n    def age(self):\\n        return self._age\\n\\n    @age.setter\\n    def age(self, value):\\n        if not isinstance(value, int) or value < 0:\\n            raise ValueError(\"Age must be a non-negative integer\")\\n        self._age = value  \n",
      "0           age 속성을 읽고 쓸 수 있게 하며, 쓰기 시 유효성 검사를 수행한다.                                                                                                                                                                                                                                                                                                                                                    \n",
      "1           age 속성을 읽고 쓸 수 있게 하며, 쓰기 시 유효성 검사를 수행한다.                                                                                                                                                                                                                                                                                                                                                    \n",
      "2                            age 속성을 동적으로 계산하여 반환한다.                                                                                                                                                                                                                                                                                                                                                    \n",
      "3                                age 속성을 자동으로 초기화한다.                                                                                                                                                                                                                                                                                                                                                    \n",
      "4           age 속성을 읽고 쓸 수 있게 하며, 쓰기 시 유효성 검사를 수행한다.                                                                                                                                                                                                                                                                                                                                                    \n"
     ]
    }
   ],
   "source": [
    "# !pip install openpyxl\n",
    "\n",
    "df = pd.read_excel(\"/home/lws/kulws2025/kubig2025/ml_dl_python/data/exel_test.xlsx\")\n",
    "print(df.info())\n",
    "print(df.head())"
   ]
  },
  {
   "cell_type": "code",
   "execution_count": 18,
   "id": "1529422a",
   "metadata": {},
   "outputs": [
    {
     "name": "stdout",
     "output_type": "stream",
     "text": [
      "                     타임스탬프                    이메일 주소  Unnamed: 2   이름  \\\n",
      "0  2025-05-15 17:10:02.146       egwag1627@gmail.com         NaN  곽은규   \n",
      "1  2025-05-15 17:10:51.556      bubblerion@gmail.com         NaN  박재형   \n",
      "2  2025-05-15 17:11:31.815      qkrgkdbf10@gmail.com         NaN  박어진   \n",
      "3  2025-05-15 17:11:32.138       hjp990730@gmail.com         NaN  박해준   \n",
      "4  2025-05-15 17:11:34.551  yeongjae.jeong@gmail.com         NaN  정영재   \n",
      "5  2025-05-15 17:13:31.648      dntjr9009@knou.ac.kr         NaN  이우석   \n",
      "6  2025-05-15 17:14:04.618   dbwlsgh612859@gmail.com         NaN  유진호   \n",
      "7  2025-05-15 17:14:10.211         qazxczf@gmail.com         NaN  이재윤   \n",
      "8  2025-05-15 17:14:31.617         kdp9477@gmail.com         NaN  김동필   \n",
      "9  2025-05-15 17:14:39.325         fkzktym@gmail.com         NaN  이화섭   \n",
      "10 2025-05-15 17:17:34.181    prunusmume99@gmail.com         NaN  임윤진   \n",
      "11 2025-05-15 17:21:10.866     seokjun7083@gmail.com         NaN  정석준   \n",
      "12 2025-05-16 08:49:13.641       rimshot99@naver.com         NaN  송우림   \n",
      "\n",
      "   1.파이썬이 인터프리터 언어로서 가지는 주요 특징은 무엇인가요? 2.파이썬의 동적 타이핑의 특징은 무엇인가요?  \\\n",
      "0               코드는 컴파일 없이 한 줄씩 실행됩니다.   변수의 데이터 타입은 런타임에 결정됩니다.   \n",
      "1               코드는 컴파일 없이 한 줄씩 실행됩니다.   변수의 데이터 타입은 런타임에 결정됩니다.   \n",
      "2               코드는 컴파일 없이 한 줄씩 실행됩니다.   변수의 데이터 타입은 런타임에 결정됩니다.   \n",
      "3               코드는 컴파일 없이 한 줄씩 실행됩니다.   변수의 데이터 타입은 런타임에 결정됩니다.   \n",
      "4              코드는 실행 전에 어셈블리어로 변환됩니다.     변수는 정적 메모리 할당을 사용합니다.   \n",
      "5               코드는 컴파일 없이 한 줄씩 실행됩니다.   변수의 데이터 타입은 런타임에 결정됩니다.   \n",
      "6               코드는 컴파일 없이 한 줄씩 실행됩니다.   변수의 데이터 타입은 런타임에 결정됩니다.   \n",
      "7               코드는 컴파일 없이 한 줄씩 실행됩니다.   변수의 데이터 타입은 런타임에 결정됩니다.   \n",
      "8               코드는 컴파일 없이 한 줄씩 실행됩니다.   변수의 데이터 타입은 런타임에 결정됩니다.   \n",
      "9               코드는 컴파일 없이 한 줄씩 실행됩니다.   변수의 데이터 타입은 런타임에 결정됩니다.   \n",
      "10              코드는 컴파일 없이 한 줄씩 실행됩니다.   변수의 데이터 타입은 런타임에 결정됩니다.   \n",
      "11              코드는 컴파일 없이 한 줄씩 실행됩니다.   변수의 데이터 타입은 런타임에 결정됩니다.   \n",
      "12              코드는 컴파일 없이 한 줄씩 실행됩니다.   변수의 데이터 타입은 런타임에 결정됩니다.   \n",
      "\n",
      "   3. 다음 중 파이썬의 기본 데이터 타입이 아닌 것은 무엇인가요? 4. input() 함수의 반환값은 무엇인가요?  \\\n",
      "0                                 array                        str   \n",
      "1                                 float                      tuple   \n",
      "2                                 array                        int   \n",
      "3                                 array                        str   \n",
      "4                                 array                      tuple   \n",
      "5                                 array                      tuple   \n",
      "6                                 array                        str   \n",
      "7                                 array                        str   \n",
      "8                                 array                        str   \n",
      "9                                 array                        str   \n",
      "10                                array                        int   \n",
      "11                                array                        str   \n",
      "12                                array                        str   \n",
      "\n",
      "   5. import 문의 주요 역할은 무엇인가요? 6. 다음 중 딕셔너리 메소드 items()의 역할은 무엇인가요?  \\\n",
      "0      모듈, 패키지, 라이브러리를 가져옵니다.                       키와 값 쌍을 반환합니다.   \n",
      "1      모듈, 패키지, 라이브러리를 가져옵니다.                       키와 값 쌍을 반환합니다.   \n",
      "2      모듈, 패키지, 라이브러리를 가져옵니다.                       키와 값 쌍을 반환합니다.   \n",
      "3      모듈, 패키지, 라이브러리를 가져옵니다.                       키와 값 쌍을 반환합니다.   \n",
      "4      모듈, 패키지, 라이브러리를 가져옵니다.                         딕셔너리를 정렬합니다.   \n",
      "5      모듈, 패키지, 라이브러리를 가져옵니다.                            값만 반환합니다.   \n",
      "6                 클래스를 생성합니다.                       키와 값 쌍을 반환합니다.   \n",
      "7      모듈, 패키지, 라이브러리를 가져옵니다.                       키와 값 쌍을 반환합니다.   \n",
      "8      모듈, 패키지, 라이브러리를 가져옵니다.                       키와 값 쌍을 반환합니다.   \n",
      "9      모듈, 패키지, 라이브러리를 가져옵니다.                       키와 값 쌍을 반환합니다.   \n",
      "10     모듈, 패키지, 라이브러리를 가져옵니다.                       키와 값 쌍을 반환합니다.   \n",
      "11     모듈, 패키지, 라이브러리를 가져옵니다.                       키와 값 쌍을 반환합니다.   \n",
      "12     모듈, 패키지, 라이브러리를 가져옵니다.                       키와 값 쌍을 반환합니다.   \n",
      "\n",
      "   7. list comprehension의 특징은 무엇인가요? 8.함수의 가변 길이 인자 *args의 역할은 무엇인가요?  \\\n",
      "0              간결하게 리스트를 생성하는 구문입니다.                   키워드 인자를 처리합니다.   \n",
      "1              간결하게 리스트를 생성하는 구문입니다.              여러 위치 인자를 튜플로 받습니다.   \n",
      "2              간결하게 리스트를 생성하는 구문입니다.                   키워드 인자를 처리합니다.   \n",
      "3              간결하게 리스트를 생성하는 구문입니다.                  함수의 반환값을 정의합니다.   \n",
      "4              간결하게 리스트를 생성하는 구문입니다.              여러 위치 인자를 튜플로 받습니다.   \n",
      "5              간결하게 리스트를 생성하는 구문입니다.              여러 위치 인자를 튜플로 받습니다.   \n",
      "6              간결하게 리스트를 생성하는 구문입니다.                  함수의 반환값을 정의합니다.   \n",
      "7              간결하게 리스트를 생성하는 구문입니다.              여러 위치 인자를 튜플로 받습니다.   \n",
      "8              간결하게 리스트를 생성하는 구문입니다.              여러 위치 인자를 튜플로 받습니다.   \n",
      "9              간결하게 리스트를 생성하는 구문입니다.              여러 위치 인자를 튜플로 받습니다.   \n",
      "10             간결하게 리스트를 생성하는 구문입니다.                   키워드 인자를 처리합니다.   \n",
      "11                리스트를 복사하는 데 사용됩니다.                  함수의 반환값을 정의합니다.   \n",
      "12                리스트를 복사하는 데 사용됩니다.              여러 위치 인자를 튜플로 받습니다.   \n",
      "\n",
      "   9. 가상 환경(venv)의 주요 목적은 무엇인가요?   10. 데코레이터의 주요 역할은 무엇인가요?  \\\n",
      "0      프로젝트별로 독립된 파이썬 환경을 제공합니다.                   파일을 엽니다.   \n",
      "1      프로젝트별로 독립된 파이썬 환경을 제공합니다.  함수나 메소드의 동작을 수정하거나 확장합니다.   \n",
      "2      프로젝트별로 독립된 파이썬 환경을 제공합니다.  함수나 메소드의 동작을 수정하거나 확장합니다.   \n",
      "3      프로젝트별로 독립된 파이썬 환경을 제공합니다.  함수나 메소드의 동작을 수정하거나 확장합니다.   \n",
      "4      프로젝트별로 독립된 파이썬 환경을 제공합니다.  함수나 메소드의 동작을 수정하거나 확장합니다.   \n",
      "5      프로젝트별로 독립된 파이썬 환경을 제공합니다.  함수나 메소드의 동작을 수정하거나 확장합니다.   \n",
      "6      프로젝트별로 독립된 파이썬 환경을 제공합니다.  함수나 메소드의 동작을 수정하거나 확장합니다.   \n",
      "7                 데이터베이스를 관리합니다.                   파일을 엽니다.   \n",
      "8      프로젝트별로 독립된 파이썬 환경을 제공합니다.  함수나 메소드의 동작을 수정하거나 확장합니다.   \n",
      "9      프로젝트별로 독립된 파이썬 환경을 제공합니다.  함수나 메소드의 동작을 수정하거나 확장합니다.   \n",
      "10     프로젝트별로 독립된 파이썬 환경을 제공합니다.  함수나 메소드의 동작을 수정하거나 확장합니다.   \n",
      "11     프로젝트별로 독립된 파이썬 환경을 제공합니다.  함수나 메소드의 동작을 수정하거나 확장합니다.   \n",
      "12     프로젝트별로 독립된 파이썬 환경을 제공합니다.  함수나 메소드의 동작을 수정하거나 확장합니다.   \n",
      "\n",
      "   11. 파이썬이 mymodule.c로 생성된 .so 파일을 동적 로딩할 때 사용하는 주요 내부 메커니즘은 무엇인가요?  \\\n",
      "0                                              dlopen                  \n",
      "1                                       PyFrameObject                  \n",
      "2                                              dlopen                  \n",
      "3                                       PyFrameObject                  \n",
      "4                                       PyFrameObject                  \n",
      "5                                       PyFrameObject                  \n",
      "6                                              dlopen                  \n",
      "7                                              dlopen                  \n",
      "8                                              dlopen                  \n",
      "9                                       PyFrameObject                  \n",
      "10                                      Py_BuildValue                  \n",
      "11                                             dlopen                  \n",
      "12                                      PyFrameObject                  \n",
      "\n",
      "   12. 파이썬에서 모든 클래스는 기본적으로 object 클래스를 상속받습니다. object 클래스의 주요 역할은 무엇인가요?  \\\n",
      "0                                       클래스 상속을 제한한다.                      \n",
      "1                               모든 클래스의 메모리 할당을 관리한다.                      \n",
      "2                            모든 객체에 공통적인 기본 동작을 제공한다.                      \n",
      "3                            모든 객체에 공통적인 기본 동작을 제공한다.                      \n",
      "4                            모든 객체에 공통적인 기본 동작을 제공한다.                      \n",
      "5                            모든 객체에 공통적인 기본 동작을 제공한다.                      \n",
      "6                            모든 객체에 공통적인 기본 동작을 제공한다.                      \n",
      "7                                  플랫폼별로 다른 동작을 정의한다.                      \n",
      "8                            모든 객체에 공통적인 기본 동작을 제공한다.                      \n",
      "9                            모든 객체에 공통적인 기본 동작을 제공한다.                      \n",
      "10                           모든 객체에 공통적인 기본 동작을 제공한다.                      \n",
      "11                                 플랫폼별로 다른 동작을 정의한다.                      \n",
      "12                           모든 객체에 공통적인 기본 동작을 제공한다.                      \n",
      "\n",
      "   13. Docker 컨테이너에서 docker run 명령의 역할은 무엇인가요?  \\\n",
      "0                           컨테이너의 네트워크를 재설정한다.   \n",
      "1                             컨테이너를 시작하고 실행한다.   \n",
      "2                             컨테이너를 시작하고 실행한다.   \n",
      "3                            Docker 이미지를 빌드한다.   \n",
      "4                             컨테이너를 시작하고 실행한다.   \n",
      "5                             컨테이너를 시작하고 실행한다.   \n",
      "6                             컨테이너를 시작하고 실행한다.   \n",
      "7                              컨테이너의 로그를 수집한다.   \n",
      "8                             컨테이너를 시작하고 실행한다.   \n",
      "9                             컨테이너를 시작하고 실행한다.   \n",
      "10                            컨테이너를 시작하고 실행한다.   \n",
      "11                           Docker 이미지를 빌드한다.   \n",
      "12                            컨테이너를 시작하고 실행한다.   \n",
      "\n",
      "   14. Docker, Poetry, venv를 사용할 때의 공통 목표는 무엇인가요?  \\\n",
      "0                              데이터베이스 스키마를 초기화한다.   \n",
      "1                       애플리케이션의 실행 환경을 일관되게 유지한다.   \n",
      "2                                  파이썬 코드를 컴파일한다.   \n",
      "3                       애플리케이션의 실행 환경을 일관되게 유지한다.   \n",
      "4                       애플리케이션의 실행 환경을 일관되게 유지한다.   \n",
      "5                       애플리케이션의 실행 환경을 일관되게 유지한다.   \n",
      "6                                 프로젝트의 문서를 생성한다.   \n",
      "7                              데이터베이스 스키마를 초기화한다.   \n",
      "8                       애플리케이션의 실행 환경을 일관되게 유지한다.   \n",
      "9                       애플리케이션의 실행 환경을 일관되게 유지한다.   \n",
      "10                      애플리케이션의 실행 환경을 일관되게 유지한다.   \n",
      "11                      애플리케이션의 실행 환경을 일관되게 유지한다.   \n",
      "12                      애플리케이션의 실행 환경을 일관되게 유지한다.   \n",
      "\n",
      "   15. 다음 코드에서 @property와 @age.setter를 사용한 age 속성의 동작을 해석하세요.\\n\\nclass Student:\\n    def __init__(self, age):\\n        self._age = age\\n\\n    @property\\n    def age(self):\\n        return self._age\\n\\n    @age.setter\\n    def age(self, value):\\n        if not isinstance(value, int) or value < 0:\\n            raise ValueError(\"Age must be a non-negative integer\")\\n        self._age = value  \n",
      "0            age 속성을 읽고 쓸 수 있게 하며, 쓰기 시 유효성 검사를 수행한다.                                                                                                                                                                                                                                                                                                                                                    \n",
      "1            age 속성을 읽고 쓸 수 있게 하며, 쓰기 시 유효성 검사를 수행한다.                                                                                                                                                                                                                                                                                                                                                    \n",
      "2                             age 속성을 동적으로 계산하여 반환한다.                                                                                                                                                                                                                                                                                                                                                    \n",
      "3                                 age 속성을 자동으로 초기화한다.                                                                                                                                                                                                                                                                                                                                                    \n",
      "4            age 속성을 읽고 쓸 수 있게 하며, 쓰기 시 유효성 검사를 수행한다.                                                                                                                                                                                                                                                                                                                                                    \n",
      "5            age 속성을 읽고 쓸 수 있게 하며, 쓰기 시 유효성 검사를 수행한다.                                                                                                                                                                                                                                                                                                                                                    \n",
      "6            age 속성을 읽고 쓸 수 있게 하며, 쓰기 시 유효성 검사를 수행한다.                                                                                                                                                                                                                                                                                                                                                    \n",
      "7            age 속성을 읽고 쓸 수 있게 하며, 쓰기 시 유효성 검사를 수행한다.                                                                                                                                                                                                                                                                                                                                                    \n",
      "8            age 속성을 읽고 쓸 수 있게 하며, 쓰기 시 유효성 검사를 수행한다.                                                                                                                                                                                                                                                                                                                                                    \n",
      "9            age 속성을 읽고 쓸 수 있게 하며, 쓰기 시 유효성 검사를 수행한다.                                                                                                                                                                                                                                                                                                                                                    \n",
      "10                                age 속성을 자동으로 초기화한다.                                                                                                                                                                                                                                                                                                                                                    \n",
      "11           age 속성을 읽고 쓸 수 있게 하며, 쓰기 시 유효성 검사를 수행한다.                                                                                                                                                                                                                                                                                                                                                    \n",
      "12           age 속성을 읽고 쓸 수 있게 하며, 쓰기 시 유효성 검사를 수행한다.                                                                                                                                                                                                                                                                                                                                                    \n"
     ]
    }
   ],
   "source": [
    "print(df)"
   ]
  },
  {
   "cell_type": "code",
   "execution_count": 21,
   "id": "7787daf0",
   "metadata": {},
   "outputs": [],
   "source": [
    "df.to_csv(\"/home/lws/kulws2025/kubig2025/ml_dl_python/data/csv_test.csv\")"
   ]
  },
  {
   "cell_type": "code",
   "execution_count": 23,
   "id": "4e5ca891",
   "metadata": {},
   "outputs": [
    {
     "name": "stdout",
     "output_type": "stream",
     "text": [
      "<class 'pandas.core.frame.DataFrame'>\n",
      "RangeIndex: 891 entries, 0 to 890\n",
      "Data columns (total 12 columns):\n",
      " #   Column       Non-Null Count  Dtype  \n",
      "---  ------       --------------  -----  \n",
      " 0   PassengerId  891 non-null    int64  \n",
      " 1   Survived     891 non-null    int64  \n",
      " 2   Pclass       891 non-null    int64  \n",
      " 3   Name         891 non-null    object \n",
      " 4   Sex          891 non-null    object \n",
      " 5   Age          714 non-null    float64\n",
      " 6   SibSp        891 non-null    int64  \n",
      " 7   Parch        891 non-null    int64  \n",
      " 8   Ticket       891 non-null    object \n",
      " 9   Fare         891 non-null    float64\n",
      " 10  Cabin        204 non-null    object \n",
      " 11  Embarked     889 non-null    object \n",
      "dtypes: float64(2), int64(5), object(5)\n",
      "memory usage: 83.7+ KB\n",
      "None\n",
      "   PassengerId  Survived  Pclass  \\\n",
      "0            1         0       3   \n",
      "1            2         1       1   \n",
      "2            3         1       3   \n",
      "3            4         1       1   \n",
      "4            5         0       3   \n",
      "\n",
      "                                                Name     Sex   Age  SibSp  \\\n",
      "0                            Braund, Mr. Owen Harris    male  22.0      1   \n",
      "1  Cumings, Mrs. John Bradley (Florence Briggs Th...  female  38.0      1   \n",
      "2                             Heikkinen, Miss. Laina  female  26.0      0   \n",
      "3       Futrelle, Mrs. Jacques Heath (Lily May Peel)  female  35.0      1   \n",
      "4                           Allen, Mr. William Henry    male  35.0      0   \n",
      "\n",
      "   Parch            Ticket     Fare Cabin Embarked  \n",
      "0      0         A/5 21171   7.2500   NaN        S  \n",
      "1      0          PC 17599  71.2833   C85        C  \n",
      "2      0  STON/O2. 3101282   7.9250   NaN        S  \n",
      "3      0            113803  53.1000  C123        S  \n",
      "4      0            373450   8.0500   NaN        S  \n"
     ]
    }
   ],
   "source": [
    "# 조회, 정렬, 조건 필터\n",
    "df = pd.read_csv(\"/home/lws/kulws2025/kubig2025/ml_dl_python/data/train.csv\")\n",
    "print(df.info())\n",
    "print(df.head())"
   ]
  },
  {
   "cell_type": "code",
   "execution_count": 24,
   "id": "bd9c2546",
   "metadata": {},
   "outputs": [
    {
     "name": "stdout",
     "output_type": "stream",
     "text": [
      "Sex\n",
      "male      577\n",
      "female    314\n",
      "Name: count, dtype: int64\n"
     ]
    }
   ],
   "source": [
    "print(df[\"Sex\"].value_counts())"
   ]
  },
  {
   "cell_type": "code",
   "execution_count": 25,
   "id": "b20ac0e8",
   "metadata": {},
   "outputs": [
    {
     "name": "stdout",
     "output_type": "stream",
     "text": [
      "<class 'pandas.core.frame.DataFrame'>\n",
      "RangeIndex: 891 entries, 0 to 890\n",
      "Data columns (total 12 columns):\n",
      " #   Column       Non-Null Count  Dtype  \n",
      "---  ------       --------------  -----  \n",
      " 0   PassengerId  891 non-null    int64  \n",
      " 1   Survived     891 non-null    int64  \n",
      " 2   Pclass       891 non-null    int8   \n",
      " 3   Name         891 non-null    object \n",
      " 4   Sex          891 non-null    object \n",
      " 5   Age          714 non-null    float64\n",
      " 6   SibSp        891 non-null    int64  \n",
      " 7   Parch        891 non-null    int64  \n",
      " 8   Ticket       891 non-null    object \n",
      " 9   Fare         891 non-null    float64\n",
      " 10  Cabin        204 non-null    object \n",
      " 11  Embarked     889 non-null    object \n",
      "dtypes: float64(2), int64(4), int8(1), object(5)\n",
      "memory usage: 77.6+ KB\n",
      "None\n"
     ]
    }
   ],
   "source": [
    "df[\"Pclass\"] = df[\"Pclass\"].astype(\"int8\")\n",
    "print(df.info())"
   ]
  },
  {
   "cell_type": "code",
   "execution_count": 26,
   "id": "ba06147e",
   "metadata": {},
   "outputs": [
    {
     "name": "stdout",
     "output_type": "stream",
     "text": [
      "     PassengerId  Survived  Pclass                                      Name  \\\n",
      "630          631         1       1      Barkworth, Mr. Algernon Henry Wilson   \n",
      "851          852         0       3                       Svensson, Mr. Johan   \n",
      "493          494         0       1                   Artagaveytia, Mr. Ramon   \n",
      "96            97         0       1                 Goldschmidt, Mr. George B   \n",
      "116          117         0       3                      Connors, Mr. Patrick   \n",
      "..           ...       ...     ...                                       ...   \n",
      "859          860         0       3                          Razi, Mr. Raihed   \n",
      "863          864         0       3         Sage, Miss. Dorothy Edith \"Dolly\"   \n",
      "868          869         0       3               van Melkebeke, Mr. Philemon   \n",
      "878          879         0       3                        Laleff, Mr. Kristo   \n",
      "888          889         0       3  Johnston, Miss. Catherine Helen \"Carrie\"   \n",
      "\n",
      "        Sex   Age  SibSp  Parch      Ticket     Fare Cabin Embarked  \n",
      "630    male  80.0      0      0       27042  30.0000   A23        S  \n",
      "851    male  74.0      0      0      347060   7.7750   NaN        S  \n",
      "493    male  71.0      0      0    PC 17609  49.5042   NaN        C  \n",
      "96     male  71.0      0      0    PC 17754  34.6542    A5        C  \n",
      "116    male  70.5      0      0      370369   7.7500   NaN        Q  \n",
      "..      ...   ...    ...    ...         ...      ...   ...      ...  \n",
      "859    male   NaN      0      0        2629   7.2292   NaN        C  \n",
      "863  female   NaN      8      2    CA. 2343  69.5500   NaN        S  \n",
      "868    male   NaN      0      0      345777   9.5000   NaN        S  \n",
      "878    male   NaN      0      0      349217   7.8958   NaN        S  \n",
      "888  female   NaN      1      2  W./C. 6607  23.4500   NaN        S  \n",
      "\n",
      "[891 rows x 12 columns]\n"
     ]
    }
   ],
   "source": [
    "df.sort_values(by=\"Age\", ascending=False, inplace=True)\n",
    "print(df)"
   ]
  },
  {
   "cell_type": "code",
   "execution_count": 27,
   "id": "722bcc32",
   "metadata": {},
   "outputs": [
    {
     "name": "stdout",
     "output_type": "stream",
     "text": [
      "                                                 Name   Age     Sex\n",
      "745                      Crosby, Capt. Edward Gifford  70.0    male\n",
      "672                       Mitchell, Mr. Henry Michael  70.0    male\n",
      "33                              Wheadon, Mr. Edward H  66.0    male\n",
      "456                         Millet, Mr. Francis Davis  65.0    male\n",
      "54                     Ostby, Mr. Engelhart Cornelius  65.0    male\n",
      "280                                  Duane, Mr. Frank  65.0    male\n",
      "438                                 Fortune, Mr. Mark  64.0    male\n",
      "545                      Nicholson, Mr. Arthur Ernest  64.0    male\n",
      "483                            Turkula, Mrs. (Hedwig)  63.0  female\n",
      "275                 Andrews, Miss. Kornelia Theodosia  63.0  female\n",
      "829         Stone, Mrs. George Nelson (Martha Evelyn)  62.0  female\n",
      "252                         Stead, Mr. William Thomas  62.0    male\n",
      "555                                Wright, Mr. George  62.0    male\n",
      "570                                Harris, Mr. George  62.0    male\n",
      "170                         Van der hoef, Mr. Wyckoff  61.0    male\n",
      "625                             Sutton, Mr. Frederick  61.0    male\n",
      "326                         Nysveen, Mr. Johan Hansen  61.0    male\n",
      "587                  Frolicher-Stehli, Mr. Maxmillian  60.0    male\n",
      "684                 Brown, Mr. Thomas William Solomon  60.0    male\n",
      "694                                   Weir, Col. John  60.0    male\n",
      "366  Warren, Mrs. Frank Manley (Anna Sophia Atkinson)  60.0  female\n"
     ]
    }
   ],
   "source": [
    "cond = df[\"Age\"] <= 70\n",
    "cond2 = df[\"Age\"] >= 60\n",
    "# print(df[cond & cond2].info())\n",
    "print(df.loc[cond & cond2, [\"Name\", \"Age\", \"Sex\"]])"
   ]
  },
  {
   "cell_type": "code",
   "execution_count": 29,
   "id": "e314f9bb",
   "metadata": {},
   "outputs": [
    {
     "data": {
      "text/html": [
       "<div>\n",
       "<style scoped>\n",
       "    .dataframe tbody tr th:only-of-type {\n",
       "        vertical-align: middle;\n",
       "    }\n",
       "\n",
       "    .dataframe tbody tr th {\n",
       "        vertical-align: top;\n",
       "    }\n",
       "\n",
       "    .dataframe thead th {\n",
       "        text-align: right;\n",
       "    }\n",
       "</style>\n",
       "<table border=\"1\" class=\"dataframe\">\n",
       "  <thead>\n",
       "    <tr style=\"text-align: right;\">\n",
       "      <th></th>\n",
       "      <th>PassengerId</th>\n",
       "      <th>Survived</th>\n",
       "      <th>Pclass</th>\n",
       "      <th>Age</th>\n",
       "      <th>SibSp</th>\n",
       "      <th>Parch</th>\n",
       "      <th>Fare</th>\n",
       "    </tr>\n",
       "  </thead>\n",
       "  <tbody>\n",
       "    <tr>\n",
       "      <th>count</th>\n",
       "      <td>891.000000</td>\n",
       "      <td>891.000000</td>\n",
       "      <td>891.000000</td>\n",
       "      <td>714.000000</td>\n",
       "      <td>891.000000</td>\n",
       "      <td>891.000000</td>\n",
       "      <td>891.000000</td>\n",
       "    </tr>\n",
       "    <tr>\n",
       "      <th>mean</th>\n",
       "      <td>446.000000</td>\n",
       "      <td>0.383838</td>\n",
       "      <td>2.308642</td>\n",
       "      <td>29.699118</td>\n",
       "      <td>0.523008</td>\n",
       "      <td>0.381594</td>\n",
       "      <td>32.204208</td>\n",
       "    </tr>\n",
       "    <tr>\n",
       "      <th>std</th>\n",
       "      <td>257.353842</td>\n",
       "      <td>0.486592</td>\n",
       "      <td>0.836071</td>\n",
       "      <td>14.526497</td>\n",
       "      <td>1.102743</td>\n",
       "      <td>0.806057</td>\n",
       "      <td>49.693429</td>\n",
       "    </tr>\n",
       "    <tr>\n",
       "      <th>min</th>\n",
       "      <td>1.000000</td>\n",
       "      <td>0.000000</td>\n",
       "      <td>1.000000</td>\n",
       "      <td>0.420000</td>\n",
       "      <td>0.000000</td>\n",
       "      <td>0.000000</td>\n",
       "      <td>0.000000</td>\n",
       "    </tr>\n",
       "    <tr>\n",
       "      <th>25%</th>\n",
       "      <td>223.500000</td>\n",
       "      <td>0.000000</td>\n",
       "      <td>2.000000</td>\n",
       "      <td>20.125000</td>\n",
       "      <td>0.000000</td>\n",
       "      <td>0.000000</td>\n",
       "      <td>7.910400</td>\n",
       "    </tr>\n",
       "    <tr>\n",
       "      <th>50%</th>\n",
       "      <td>446.000000</td>\n",
       "      <td>0.000000</td>\n",
       "      <td>3.000000</td>\n",
       "      <td>28.000000</td>\n",
       "      <td>0.000000</td>\n",
       "      <td>0.000000</td>\n",
       "      <td>14.454200</td>\n",
       "    </tr>\n",
       "    <tr>\n",
       "      <th>75%</th>\n",
       "      <td>668.500000</td>\n",
       "      <td>1.000000</td>\n",
       "      <td>3.000000</td>\n",
       "      <td>38.000000</td>\n",
       "      <td>1.000000</td>\n",
       "      <td>0.000000</td>\n",
       "      <td>31.000000</td>\n",
       "    </tr>\n",
       "    <tr>\n",
       "      <th>max</th>\n",
       "      <td>891.000000</td>\n",
       "      <td>1.000000</td>\n",
       "      <td>3.000000</td>\n",
       "      <td>80.000000</td>\n",
       "      <td>8.000000</td>\n",
       "      <td>6.000000</td>\n",
       "      <td>512.329200</td>\n",
       "    </tr>\n",
       "  </tbody>\n",
       "</table>\n",
       "</div>"
      ],
      "text/plain": [
       "       PassengerId    Survived      Pclass         Age       SibSp  \\\n",
       "count   891.000000  891.000000  891.000000  714.000000  891.000000   \n",
       "mean    446.000000    0.383838    2.308642   29.699118    0.523008   \n",
       "std     257.353842    0.486592    0.836071   14.526497    1.102743   \n",
       "min       1.000000    0.000000    1.000000    0.420000    0.000000   \n",
       "25%     223.500000    0.000000    2.000000   20.125000    0.000000   \n",
       "50%     446.000000    0.000000    3.000000   28.000000    0.000000   \n",
       "75%     668.500000    1.000000    3.000000   38.000000    1.000000   \n",
       "max     891.000000    1.000000    3.000000   80.000000    8.000000   \n",
       "\n",
       "            Parch        Fare  \n",
       "count  891.000000  891.000000  \n",
       "mean     0.381594   32.204208  \n",
       "std      0.806057   49.693429  \n",
       "min      0.000000    0.000000  \n",
       "25%      0.000000    7.910400  \n",
       "50%      0.000000   14.454200  \n",
       "75%      0.000000   31.000000  \n",
       "max      6.000000  512.329200  "
      ]
     },
     "execution_count": 29,
     "metadata": {},
     "output_type": "execute_result"
    }
   ],
   "source": [
    "df = pd.read_csv(\"/home/lws/kulws2025/kubig2025/ml_dl_python/data/train.csv\")\n",
    "df.describe()\n"
   ]
  },
  {
   "cell_type": "code",
   "execution_count": 30,
   "id": "586a867b",
   "metadata": {},
   "outputs": [
    {
     "name": "stdout",
     "output_type": "stream",
     "text": [
      "211.01912474630802\n",
      "29.69911764705882\n",
      "Age    44.666667\n",
      "dtype: float64\n",
      "Age    4422.0\n",
      "dtype: float64\n"
     ]
    }
   ],
   "source": [
    "print(df[\"Age\"].var())\n",
    "print(df[\"Age\"].mean())\n",
    "cond = df[\"Age\"] <= 50\n",
    "cond2 = df[\"Age\"] >= 40\n",
    "print(df.loc[cond & cond2, [\"Age\"]].mean())\n",
    "print(df.loc[cond & cond2, [\"Age\"]].sum())"
   ]
  },
  {
   "cell_type": "code",
   "execution_count": null,
   "id": "aa2269f6",
   "metadata": {},
   "outputs": [],
   "source": []
  }
 ],
 "metadata": {
  "kernelspec": {
   "display_name": "Python 3",
   "language": "python",
   "name": "python3"
  },
  "language_info": {
   "codemirror_mode": {
    "name": "ipython",
    "version": 3
   },
   "file_extension": ".py",
   "mimetype": "text/x-python",
   "name": "python",
   "nbconvert_exporter": "python",
   "pygments_lexer": "ipython3",
   "version": "3.10.12"
  }
 },
 "nbformat": 4,
 "nbformat_minor": 5
}
