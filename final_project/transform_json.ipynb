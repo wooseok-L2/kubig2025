{
 "cells": [
  {
   "cell_type": "code",
   "execution_count": 1,
   "id": "fb3da248",
   "metadata": {},
   "outputs": [
    {
     "name": "stdout",
     "output_type": "stream",
     "text": [
      "✅ 총 1500개의 라벨이 YOLO 포맷으로 변환되었습니다.\n"
     ]
    }
   ],
   "source": [
    "import os\n",
    "import json\n",
    "\n",
    "# 사람 + 안전모 매핑\n",
    "class_map = {\n",
    "    \"02\": 0,  # 사람\n",
    "    \"07\": 1   # 안전모\n",
    "}\n",
    "\n",
    "def convert_box(box, img_w, img_h):\n",
    "    x1, y1, x2, y2 = box\n",
    "    x_center = (x1 + x2) / 2 / img_w\n",
    "    y_center = (y1 + y2) / 2 / img_h\n",
    "    w = (x2 - x1) / img_w\n",
    "    h = (y2 - y1) / img_h\n",
    "    return x_center, y_center, w, h\n",
    "\n",
    "def convert_folder(json_dir, output_txt_dir):\n",
    "    os.makedirs(output_txt_dir, exist_ok=True)\n",
    "    files = [f for f in os.listdir(json_dir) if f.endswith(\".json\")]\n",
    "    \n",
    "    for file in files:\n",
    "        json_path = os.path.join(json_dir, file)\n",
    "        txt_path = os.path.join(output_txt_dir, file.replace(\".json\", \".txt\"))\n",
    "\n",
    "        with open(json_path, \"r\") as f:\n",
    "            data = json.load(f)\n",
    "        \n",
    "        img_w, img_h = data[\"image\"][\"resolution\"]\n",
    "        yolo_lines = []\n",
    "\n",
    "        for ann in data[\"annotations\"]:\n",
    "            cls = ann[\"class\"]\n",
    "            if cls not in class_map:\n",
    "                continue\n",
    "            class_id = class_map[cls]\n",
    "            x, y, w, h = convert_box(ann[\"box\"], img_w, img_h)\n",
    "            yolo_lines.append(f\"{class_id} {x:.6f} {y:.6f} {w:.6f} {h:.6f}\")\n",
    "\n",
    "        with open(txt_path, \"w\") as out_f:\n",
    "            out_f.write(\"\\n\".join(yolo_lines))\n",
    "\n",
    "    print(f\"✅ 총 {len(files)}개의 라벨이 YOLO 포맷으로 변환되었습니다.\")\n",
    "\n",
    "folder_path = \"/home/lws/kulws2025/kubig2025/labels/train\"\n",
    "output_txt_dir = \"/home/lws/kulws2025/kubig2025/labels/changed\"\n",
    "\n",
    "convert_folder(folder_path, output_txt_dir)"
   ]
  },
  {
   "cell_type": "code",
   "execution_count": null,
   "id": "af60b225",
   "metadata": {},
   "outputs": [],
   "source": []
  }
 ],
 "metadata": {
  "kernelspec": {
   "display_name": "Python 3",
   "language": "python",
   "name": "python3"
  },
  "language_info": {
   "codemirror_mode": {
    "name": "ipython",
    "version": 3
   },
   "file_extension": ".py",
   "mimetype": "text/x-python",
   "name": "python",
   "nbconvert_exporter": "python",
   "pygments_lexer": "ipython3",
   "version": "3.10.12"
  }
 },
 "nbformat": 4,
 "nbformat_minor": 5
}
